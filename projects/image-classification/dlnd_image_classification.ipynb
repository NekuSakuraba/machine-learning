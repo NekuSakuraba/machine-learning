{
 "cells": [
  {
   "cell_type": "markdown",
   "metadata": {
    "collapsed": true
   },
   "source": [
    "# Image Classification\n",
    "In this project, you'll classify images from the [CIFAR-10 dataset](https://www.cs.toronto.edu/~kriz/cifar.html).  The dataset consists of airplanes, dogs, cats, and other objects. You'll preprocess the images, then train a convolutional neural network on all the samples. The images need to be normalized and the labels need to be one-hot encoded.  You'll get to apply what you learned and build a convolutional, max pooling, dropout, and fully connected layers.  At the end, you'll get to see your neural network's predictions on the sample images.\n",
    "## Get the Data\n",
    "Run the following cell to download the [CIFAR-10 dataset for python](https://www.cs.toronto.edu/~kriz/cifar-10-python.tar.gz)."
   ]
  },
  {
   "cell_type": "code",
   "execution_count": 1,
   "metadata": {
    "collapsed": false
   },
   "outputs": [
    {
     "name": "stdout",
     "output_type": "stream",
     "text": [
      "All files found!\n"
     ]
    }
   ],
   "source": [
    "\"\"\"\n",
    "DON'T MODIFY ANYTHING IN THIS CELL THAT IS BELOW THIS LINE\n",
    "\"\"\"\n",
    "from urllib.request import urlretrieve\n",
    "from os.path import isfile, isdir\n",
    "from tqdm import tqdm\n",
    "import problem_unittests as tests\n",
    "import tarfile\n",
    "\n",
    "cifar10_dataset_folder_path = 'cifar-10-batches-py'\n",
    "\n",
    "class DLProgress(tqdm):\n",
    "    last_block = 0\n",
    "\n",
    "    def hook(self, block_num=1, block_size=1, total_size=None):\n",
    "        self.total = total_size\n",
    "        self.update((block_num - self.last_block) * block_size)\n",
    "        self.last_block = block_num\n",
    "\n",
    "if not isfile('cifar-10-python.tar.gz'):\n",
    "    with DLProgress(unit='B', unit_scale=True, miniters=1, desc='CIFAR-10 Dataset') as pbar:\n",
    "        urlretrieve(\n",
    "            'https://www.cs.toronto.edu/~kriz/cifar-10-python.tar.gz',\n",
    "            'cifar-10-python.tar.gz',\n",
    "            pbar.hook)\n",
    "\n",
    "if not isdir(cifar10_dataset_folder_path):\n",
    "    with tarfile.open('cifar-10-python.tar.gz') as tar:\n",
    "        tar.extractall()\n",
    "        tar.close()\n",
    "\n",
    "\n",
    "tests.test_folder_path(cifar10_dataset_folder_path)"
   ]
  },
  {
   "cell_type": "markdown",
   "metadata": {},
   "source": [
    "## Explore the Data\n",
    "The dataset is broken into batches to prevent your machine from running out of memory.  The CIFAR-10 dataset consists of 5 batches, named `data_batch_1`, `data_batch_2`, etc.. Each batch contains the labels and images that are one of the following:\n",
    "* airplane\n",
    "* automobile\n",
    "* bird\n",
    "* cat\n",
    "* deer\n",
    "* dog\n",
    "* frog\n",
    "* horse\n",
    "* ship\n",
    "* truck\n",
    "\n",
    "Understanding a dataset is part of making predictions on the data.  Play around with the code cell below by changing the `batch_id` and `sample_id`. The `batch_id` is the id for a batch (1-5). The `sample_id` is the id for a image and label pair in the batch.\n",
    "\n",
    "Ask yourself \"What are all possible labels?\", \"What is the range of values for the image data?\", \"Are the labels in order or random?\".  Answers to questions like these will help you preprocess the data and end up with better predictions."
   ]
  },
  {
   "cell_type": "code",
   "execution_count": 2,
   "metadata": {
    "collapsed": true
   },
   "outputs": [],
   "source": [
    "%matplotlib inline\n",
    "%config InlineBackend.figure_format = 'retina'\n",
    "\n",
    "import helper\n",
    "import numpy as np\n",
    "from sklearn.preprocessing import LabelBinarizer"
   ]
  },
  {
   "cell_type": "code",
   "execution_count": 3,
   "metadata": {
    "collapsed": false,
    "scrolled": false
   },
   "outputs": [
    {
     "name": "stdout",
     "output_type": "stream",
     "text": [
      "\n",
      "Stats of batch 1:\n",
      "Samples: 10000\n",
      "Label Counts: {0: 1005, 1: 974, 2: 1032, 3: 1016, 4: 999, 5: 937, 6: 1030, 7: 1001, 8: 1025, 9: 981}\n",
      "First 20 Labels: [6, 9, 9, 4, 1, 1, 2, 7, 8, 3, 4, 7, 7, 2, 9, 9, 9, 3, 2, 6]\n",
      "\n",
      "Example of Image 0:\n",
      "Image - Min Value: 0 Max Value: 255\n",
      "Image - Shape: (32, 32, 3)\n",
      "Label - Label Id: 6 Name: frog\n"
     ]
    },
    {
     "data": {
      "image/png": "[encoded data removed]",
      "text/plain": [
       "<matplotlib.figure.Figure at 0x20425e8fdd8>"
      ]
     },
     "metadata": {
      "image/png": {
       "height": 250,
       "width": 253
      }
     },
     "output_type": "display_data"
    }
   ],
   "source": [
    "# Explore the dataset\n",
    "batch_id = 1\n",
    "sample_id = 0\n",
    "helper.display_stats(cifar10_dataset_folder_path, batch_id, sample_id)"
   ]
  },
  {
   "cell_type": "code",
   "execution_count": 4,
   "metadata": {
    "collapsed": true
   },
   "outputs": [],
   "source": [
    "f, l = helper.load_cfar10_batch(cifar10_dataset_folder_path, 1)"
   ]
  },
  {
   "cell_type": "code",
   "execution_count": 5,
   "metadata": {
    "collapsed": false
   },
   "outputs": [
    {
     "data": {
      "text/plain": [
       "numpy.ndarray"
      ]
     },
     "execution_count": 5,
     "metadata": {},
     "output_type": "execute_result"
    }
   ],
   "source": [
    "type(f[0])"
   ]
  },
  {
   "cell_type": "code",
   "execution_count": 6,
   "metadata": {
    "collapsed": false
   },
   "outputs": [
    {
     "data": {
      "text/plain": [
       "array([[177, 144, 116],\n",
       "       [168, 129,  94],\n",
       "       [179, 142,  87],\n",
       "       [188, 149,  67],\n",
       "       [202, 168,  68],\n",
       "       [218, 189,  76],\n",
       "       [218, 191,  72],\n",
       "       [207, 181,  70],\n",
       "       [191, 163,  79],\n",
       "       [175, 143,  82],\n",
       "       [166, 132,  86],\n",
       "       [163, 128,  92],\n",
       "       [163, 127,  94],\n",
       "       [161, 123,  92],\n",
       "       [153, 114,  84],\n",
       "       [159, 120,  90],\n",
       "       [162, 124,  93],\n",
       "       [149, 116,  91],\n",
       "       [140, 104,  83],\n",
       "       [148, 103,  77],\n",
       "       [161, 105,  69],\n",
       "       [144,  95,  55],\n",
       "       [112,  90,  59],\n",
       "       [119,  91,  58],\n",
       "       [130,  96,  65],\n",
       "       [120,  87,  59],\n",
       "       [ 92,  67,  46],\n",
       "       [103,  78,  57],\n",
       "       [170, 140, 104],\n",
       "       [216, 184, 140],\n",
       "       [151, 118,  84],\n",
       "       [123,  92,  72]], dtype=uint8)"
      ]
     },
     "execution_count": 6,
     "metadata": {},
     "output_type": "execute_result"
    }
   ],
   "source": [
    "f[0][31]"
   ]
  },
  {
   "cell_type": "markdown",
   "metadata": {},
   "source": [
    "## Implement Preprocess Functions\n",
    "### Normalize\n",
    "In the cell below, implement the `normalize` function to take in image data, `x`, and return it as a normalized Numpy array. The values should be in the range of 0 to 1, inclusive.  The return object should be the same shape as `x`."
   ]
  },
  {
   "cell_type": "code",
   "execution_count": 7,
   "metadata": {
    "collapsed": false
   },
   "outputs": [
    {
     "name": "stdout",
     "output_type": "stream",
     "text": [
      "Tests Passed\n"
     ]
    }
   ],
   "source": [
    "def normalize(x):\n",
    "    \"\"\"\n",
    "    Normalize a list of sample image data in the range of 0 to 1 \n",
    "    : x: List of image data.  The image shape is (32, 32, 3)\n",
    "    : return: Numpy array of normalize data\n",
    "    \"\"\"\n",
    "    \n",
    "    return (x - x.min()) / (x.max() - x.min())\n",
    "\n",
    "\"\"\"\n",
    "DON'T MODIFY ANYTHING IN THIS CELL THAT IS BELOW THIS LINE\n",
    "\"\"\"\n",
    "tests.test_normalize(normalize)"
   ]
  },
  {
   "cell_type": "code",
   "execution_count": 8,
   "metadata": {
    "collapsed": false,
    "scrolled": true
   },
   "outputs": [
    {
     "data": {
      "text/plain": [
       "array([[[ 0.23137255,  0.24313725,  0.24705882],\n",
       "        [ 0.16862745,  0.18039216,  0.17647059],\n",
       "        [ 0.19607843,  0.18823529,  0.16862745],\n",
       "        ..., \n",
       "        [ 0.61960784,  0.51764706,  0.42352941],\n",
       "        [ 0.59607843,  0.49019608,  0.4       ],\n",
       "        [ 0.58039216,  0.48627451,  0.40392157]],\n",
       "\n",
       "       [[ 0.0627451 ,  0.07843137,  0.07843137],\n",
       "        [ 0.        ,  0.        ,  0.        ],\n",
       "        [ 0.07058824,  0.03137255,  0.        ],\n",
       "        ..., \n",
       "        [ 0.48235294,  0.34509804,  0.21568627],\n",
       "        [ 0.46666667,  0.3254902 ,  0.19607843],\n",
       "        [ 0.47843137,  0.34117647,  0.22352941]],\n",
       "\n",
       "       [[ 0.09803922,  0.09411765,  0.08235294],\n",
       "        [ 0.0627451 ,  0.02745098,  0.        ],\n",
       "        [ 0.19215686,  0.10588235,  0.03137255],\n",
       "        ..., \n",
       "        [ 0.4627451 ,  0.32941176,  0.19607843],\n",
       "        [ 0.47058824,  0.32941176,  0.19607843],\n",
       "        [ 0.42745098,  0.28627451,  0.16470588]],\n",
       "\n",
       "       ..., \n",
       "       [[ 0.81568627,  0.66666667,  0.37647059],\n",
       "        [ 0.78823529,  0.6       ,  0.13333333],\n",
       "        [ 0.77647059,  0.63137255,  0.10196078],\n",
       "        ..., \n",
       "        [ 0.62745098,  0.52156863,  0.2745098 ],\n",
       "        [ 0.21960784,  0.12156863,  0.02745098],\n",
       "        [ 0.20784314,  0.13333333,  0.07843137]],\n",
       "\n",
       "       [[ 0.70588235,  0.54509804,  0.37647059],\n",
       "        [ 0.67843137,  0.48235294,  0.16470588],\n",
       "        [ 0.72941176,  0.56470588,  0.11764706],\n",
       "        ..., \n",
       "        [ 0.72156863,  0.58039216,  0.36862745],\n",
       "        [ 0.38039216,  0.24313725,  0.13333333],\n",
       "        [ 0.3254902 ,  0.20784314,  0.13333333]],\n",
       "\n",
       "       [[ 0.69411765,  0.56470588,  0.45490196],\n",
       "        [ 0.65882353,  0.50588235,  0.36862745],\n",
       "        [ 0.70196078,  0.55686275,  0.34117647],\n",
       "        ..., \n",
       "        [ 0.84705882,  0.72156863,  0.54901961],\n",
       "        [ 0.59215686,  0.4627451 ,  0.32941176],\n",
       "        [ 0.48235294,  0.36078431,  0.28235294]]])"
      ]
     },
     "execution_count": 8,
     "metadata": {},
     "output_type": "execute_result"
    }
   ],
   "source": [
    "normalize(f[0])"
   ]
  },
  {
   "cell_type": "markdown",
   "metadata": {},
   "source": [
    "### One-hot encode\n",
    "Just like the previous code cell, you'll be implementing a function for preprocessing.  This time, you'll implement the `one_hot_encode` function. The input, `x`, are a list of labels.  Implement the function to return the list of labels as One-Hot encoded Numpy array.  The possible values for labels are 0 to 9. The one-hot encoding function should return the same encoding for each value between each call to `one_hot_encode`.  Make sure to save the map of encodings outside the function.\n",
    "\n",
    "**Hint:**\n",
    "\n",
    "Look into LabelBinarizer in the preprocessing module of sklearn."
   ]
  },
  {
   "cell_type": "code",
   "execution_count": 9,
   "metadata": {
    "collapsed": false
   },
   "outputs": [
    {
     "data": {
      "text/plain": [
       "LabelBinarizer(neg_label=0, pos_label=1, sparse_output=False)"
      ]
     },
     "execution_count": 9,
     "metadata": {},
     "output_type": "execute_result"
    }
   ],
   "source": [
    "lb = LabelBinarizer()\n",
    "lb.fit(range(10))"
   ]
  },
  {
   "cell_type": "code",
   "execution_count": 10,
   "metadata": {
    "collapsed": false
   },
   "outputs": [
    {
     "name": "stdout",
     "output_type": "stream",
     "text": [
      "Tests Passed\n"
     ]
    }
   ],
   "source": [
    "def one_hot_encode(x):\n",
    "    \"\"\"\n",
    "    One hot encode a list of sample labels. Return a one-hot encoded vector for each label.\n",
    "    : x: List of sample Labels\n",
    "    : return: Numpy array of one-hot encoded labels\n",
    "    \"\"\"\n",
    "    return lb.transform(x)\n",
    "\n",
    "\"\"\"\n",
    "DON'T MODIFY ANYTHING IN THIS CELL THAT IS BELOW THIS LINE\n",
    "\"\"\"\n",
    "tests.test_one_hot_encode(one_hot_encode)"
   ]
  },
  {
   "cell_type": "markdown",
   "metadata": {},
   "source": [
    "### Randomize Data\n",
    "As you saw from exploring the data above, the order of the samples are randomized.  It doesn't hurt to randomize it again, but you don't need to for this dataset."
   ]
  },
  {
   "cell_type": "markdown",
   "metadata": {},
   "source": [
    "## Preprocess all the data and save it\n",
    "Running the code cell below will preprocess all the CIFAR-10 data and save it to file. The code below also uses 10% of the training data for validation."
   ]
  },
  {
   "cell_type": "code",
   "execution_count": 11,
   "metadata": {
    "collapsed": false,
    "scrolled": true
   },
   "outputs": [],
   "source": [
    "\"\"\"\n",
    "DON'T MODIFY ANYTHING IN THIS CELL\n",
    "\"\"\"\n",
    "# Preprocess Training, Validation, and Testing Data\n",
    "helper.preprocess_and_save_data(cifar10_dataset_folder_path, normalize, one_hot_encode)"
   ]
  },
  {
   "cell_type": "markdown",
   "metadata": {},
   "source": [
    "# Check Point\n",
    "This is your first checkpoint.  If you ever decide to come back to this notebook or have to restart the notebook, you can start from here.  The preprocessed data has been saved to disk."
   ]
  },
  {
   "cell_type": "code",
   "execution_count": 12,
   "metadata": {
    "collapsed": true
   },
   "outputs": [],
   "source": [
    "\"\"\"\n",
    "DON'T MODIFY ANYTHING IN THIS CELL\n",
    "\"\"\"\n",
    "import pickle\n",
    "import problem_unittests as tests\n",
    "import helper\n",
    "\n",
    "# Load the Preprocessed Validation data\n",
    "valid_features, valid_labels = pickle.load(open('preprocess_validation.p', mode='rb'))"
   ]
  },
  {
   "cell_type": "markdown",
   "metadata": {},
   "source": [
    "## Build the network\n",
    "For the neural network, you'll build each layer into a function.  Most of the code you've seen has been outside of functions. To test your code more thoroughly, we require that you put each layer in a function.  This allows us to give you better feedback and test for simple mistakes using our unittests before you submit your project.\n",
    "\n",
    ">**Note:** If you're finding it hard to dedicate enough time for this course each week, we've provided a small shortcut to this part of the project. In the next couple of problems, you'll have the option to use classes from the [TensorFlow Layers](https://www.tensorflow.org/api_docs/python/tf/layers) or [TensorFlow Layers (contrib)](https://www.tensorflow.org/api_guides/python/contrib.layers) packages to build each layer, except the layers you build in the \"Convolutional and Max Pooling Layer\" section.  TF Layers is similar to Keras's and TFLearn's abstraction to layers, so it's easy to pickup.\n",
    "\n",
    ">However, if you would like to get the most out of this course, try to solve all the problems _without_ using anything from the TF Layers packages. You **can** still use classes from other packages that happen to have the same name as ones you find in TF Layers! For example, instead of using the TF Layers version of the `conv2d` class, [tf.layers.conv2d](https://www.tensorflow.org/api_docs/python/tf/layers/conv2d), you would want to use the TF Neural Network version of `conv2d`, [tf.nn.conv2d](https://www.tensorflow.org/api_docs/python/tf/nn/conv2d). \n",
    "\n",
    "Let's begin!\n",
    "\n",
    "### Input\n",
    "The neural network needs to read the image data, one-hot encoded labels, and dropout keep probability. Implement the following functions\n",
    "* Implement `neural_net_image_input`\n",
    " * Return a [TF Placeholder](https://www.tensorflow.org/api_docs/python/tf/placeholder)\n",
    " * Set the shape using `image_shape` with batch size set to `None`.\n",
    " * Name the TensorFlow placeholder \"x\" using the TensorFlow `name` parameter in the [TF Placeholder](https://www.tensorflow.org/api_docs/python/tf/placeholder).\n",
    "* Implement `neural_net_label_input`\n",
    " * Return a [TF Placeholder](https://www.tensorflow.org/api_docs/python/tf/placeholder)\n",
    " * Set the shape using `n_classes` with batch size set to `None`.\n",
    " * Name the TensorFlow placeholder \"y\" using the TensorFlow `name` parameter in the [TF Placeholder](https://www.tensorflow.org/api_docs/python/tf/placeholder).\n",
    "* Implement `neural_net_keep_prob_input`\n",
    " * Return a [TF Placeholder](https://www.tensorflow.org/api_docs/python/tf/placeholder) for dropout keep probability.\n",
    " * Name the TensorFlow placeholder \"keep_prob\" using the TensorFlow `name` parameter in the [TF Placeholder](https://www.tensorflow.org/api_docs/python/tf/placeholder).\n",
    "\n",
    "These names will be used at the end of the project to load your saved model.\n",
    "\n",
    "Note: `None` for shapes in TensorFlow allow for a dynamic size."
   ]
  },
  {
   "cell_type": "code",
   "execution_count": 13,
   "metadata": {
    "collapsed": true
   },
   "outputs": [],
   "source": [
    "import tensorflow as tf"
   ]
  },
  {
   "cell_type": "code",
   "execution_count": 14,
   "metadata": {
    "collapsed": true
   },
   "outputs": [],
   "source": [
    "def neural_net_image_input(image_shape):\n",
    "    \"\"\"\n",
    "    Return a Tensor for a batch of image input\n",
    "    : image_shape: Shape of the images\n",
    "    : return: Tensor for image input.\n",
    "    \"\"\"\n",
    "\n",
    "    return tf.placeholder(tf.float32, shape=[None, image_shape[0], image_shape[1], image_shape[2]], name='x')"
   ]
  },
  {
   "cell_type": "code",
   "execution_count": 15,
   "metadata": {
    "collapsed": true
   },
   "outputs": [],
   "source": [
    "def neural_net_label_input(n_classes):\n",
    "    \"\"\"\n",
    "    Return a Tensor for a batch of label input\n",
    "    : n_classes: Number of classes\n",
    "    : return: Tensor for label input.\n",
    "    \"\"\"\n",
    "\n",
    "    return tf.placeholder(tf.float32, shape=[None, n_classes], name='y')"
   ]
  },
  {
   "cell_type": "code",
   "execution_count": 16,
   "metadata": {
    "collapsed": true
   },
   "outputs": [],
   "source": [
    "def neural_net_keep_prob_input():\n",
    "    \"\"\"\n",
    "    Return a Tensor for keep probability\n",
    "    : return: Tensor for keep probability.\n",
    "    \"\"\"\n",
    "\n",
    "    return tf.placeholder(tf.float32, name='keep_prob')"
   ]
  },
  {
   "cell_type": "code",
   "execution_count": 17,
   "metadata": {
    "collapsed": false
   },
   "outputs": [
    {
     "name": "stdout",
     "output_type": "stream",
     "text": [
      "Image Input Tests Passed.\n",
      "Label Input Tests Passed.\n",
      "Keep Prob Tests Passed.\n"
     ]
    }
   ],
   "source": [
    "\"\"\"\n",
    "DON'T MODIFY ANYTHING IN THIS CELL THAT IS BELOW THIS LINE\n",
    "\"\"\"\n",
    "tf.reset_default_graph()\n",
    "tests.test_nn_image_inputs(neural_net_image_input)\n",
    "tests.test_nn_label_inputs(neural_net_label_input)\n",
    "tests.test_nn_keep_prob_inputs(neural_net_keep_prob_input)"
   ]
  },
  {
   "cell_type": "markdown",
   "metadata": {},
   "source": [
    "### Convolution and Max Pooling Layer\n",
    "Convolution layers have a lot of success with images. For this code cell, you should implement the function `conv2d_maxpool` to apply convolution then max pooling:\n",
    "* Create the weight and bias using `conv_ksize`, `conv_num_outputs` and the shape of `x_tensor`.\n",
    "* Apply a convolution to `x_tensor` using weight and `conv_strides`.\n",
    " * We recommend you use same padding, but you're welcome to use any padding.\n",
    "* Add bias\n",
    "* Add a nonlinear activation to the convolution.\n",
    "* Apply Max Pooling using `pool_ksize` and `pool_strides`.\n",
    " * We recommend you use same padding, but you're welcome to use any padding.\n",
    "\n",
    "**Note:** You **can't** use [TensorFlow Layers](https://www.tensorflow.org/api_docs/python/tf/layers) or [TensorFlow Layers (contrib)](https://www.tensorflow.org/api_guides/python/contrib.layers) for **this** layer, but you can still use TensorFlow's [Neural Network](https://www.tensorflow.org/api_docs/python/tf/nn) package. You may still use the shortcut option for all the **other** layers.\n",
    "\n",
    "** Hint: **\n",
    "\n",
    "When unpacking values as an argument in Python, look into the [unpacking](https://docs.python.org/3/tutorial/controlflow.html#unpacking-argument-lists) operator. "
   ]
  },
  {
   "cell_type": "code",
   "execution_count": 18,
   "metadata": {
    "collapsed": false
   },
   "outputs": [
    {
     "name": "stdout",
     "output_type": "stream",
     "text": [
      "Tests Passed\n"
     ]
    }
   ],
   "source": [
    "def conv2d_maxpool(x_tensor, conv_num_outputs, conv_ksize, conv_strides, pool_ksize, pool_strides):\n",
    "    \"\"\"\n",
    "    Apply convolution then max pooling to x_tensor\n",
    "    :param x_tensor: TensorFlow Tensor\n",
    "    :param conv_num_outputs: Number of outputs for the convolutional layer\n",
    "    :param conv_ksize: kernal size 2-D Tuple for the convolutional layer\n",
    "    :param conv_strides: Stride 2-D Tuple for convolution\n",
    "    :param pool_ksize: kernal size 2-D Tuple for pool\n",
    "    :param pool_strides: Stride 2-D Tuple for pool\n",
    "    : return: A tensor that represents convolution and max pooling of x_tensor\n",
    "    \"\"\"\n",
    "    color_channels = x_tensor.shape.as_list()[3]\n",
    "    n = conv_ksize[0] * conv_ksize[1] * color_channels * conv_num_outputs\n",
    "    # Create the weight and bias\n",
    "    weight = tf.Variable(tf.truncated_normal([conv_ksize[0], conv_ksize[1], color_channels, conv_num_outputs],\\\n",
    "                                             mean=0., stddev=np.sqrt(2./n)))\n",
    "    bias = tf.Variable(tf.zeros(conv_num_outputs))\n",
    "    \n",
    "    # Apply a convolution to x_tensor using weight and conv_strides\n",
    "    x_tensor = tf.nn.conv2d(x_tensor, weight, strides=[1,conv_strides[0], conv_strides[1], 1], padding='SAME')\n",
    "\n",
    "    # Add bias\n",
    "    x_tensor = tf.nn.bias_add(x_tensor, bias)\n",
    "    \n",
    "    # Add a nonlinear activation to the convolution\n",
    "    x_tensor = tf.nn.relu(x_tensor)\n",
    "    \n",
    "    # Apply Max Pooling using pool_ksize and pool_strides\n",
    "    x_tensor = tf.nn.max_pool(x_tensor, \\\n",
    "                              ksize=[1, pool_ksize[0], pool_ksize[1], 1], \\\n",
    "                              strides=[1,pool_strides[0], pool_strides[1], 1], \\\n",
    "                              padding='SAME')\n",
    "    \n",
    "    return x_tensor\n",
    "\n",
    "\"\"\"\n",
    "DON'T MODIFY ANYTHING IN THIS CELL THAT IS BELOW THIS LINE\n",
    "\"\"\"\n",
    "tests.test_con_pool(conv2d_maxpool)"
   ]
  },
  {
   "cell_type": "markdown",
   "metadata": {},
   "source": [
    "### Flatten Layer\n",
    "Implement the `flatten` function to change the dimension of `x_tensor` from a 4-D tensor to a 2-D tensor.  The output should be the shape (*Batch Size*, *Flattened Image Size*). Shortcut option: you can use classes from the [TensorFlow Layers](https://www.tensorflow.org/api_docs/python/tf/layers) or [TensorFlow Layers (contrib)](https://www.tensorflow.org/api_guides/python/contrib.layers) packages for this layer. For more of a challenge, only use other TensorFlow packages."
   ]
  },
  {
   "cell_type": "code",
   "execution_count": 19,
   "metadata": {
    "collapsed": false
   },
   "outputs": [
    {
     "name": "stdout",
     "output_type": "stream",
     "text": [
      "Tests Passed\n"
     ]
    }
   ],
   "source": [
    "def flatten(x_tensor):\n",
    "    \"\"\"\n",
    "    Flatten x_tensor to (Batch Size, Flattened Image Size)\n",
    "    : x_tensor: A tensor of size (Batch Size, ...), where ... are the image dimensions.\n",
    "    : return: A tensor of size (Batch Size, Flattened Image Size).\n",
    "    \"\"\"\n",
    "    image_size = x_tensor.shape.as_list()[1:]\n",
    "    return tf.reshape(x_tensor, [-1, np.product(image_size)])\n",
    "\n",
    "\"\"\"\n",
    "DON'T MODIFY ANYTHING IN THIS CELL THAT IS BELOW THIS LINE\n",
    "\"\"\"\n",
    "tests.test_flatten(flatten)"
   ]
  },
  {
   "cell_type": "markdown",
   "metadata": {},
   "source": [
    "### Fully-Connected Layer\n",
    "Implement the `fully_conn` function to apply a fully connected layer to `x_tensor` with the shape (*Batch Size*, *num_outputs*). Shortcut option: you can use classes from the [TensorFlow Layers](https://www.tensorflow.org/api_docs/python/tf/layers) or [TensorFlow Layers (contrib)](https://www.tensorflow.org/api_guides/python/contrib.layers) packages for this layer. For more of a challenge, only use other TensorFlow packages."
   ]
  },
  {
   "cell_type": "code",
   "execution_count": 20,
   "metadata": {
    "collapsed": false
   },
   "outputs": [
    {
     "name": "stdout",
     "output_type": "stream",
     "text": [
      "Tests Passed\n"
     ]
    }
   ],
   "source": [
    "def fully_conn(x_tensor, num_outputs):\n",
    "    \"\"\"\n",
    "    Apply a fully connected layer to x_tensor using weight and bias\n",
    "    : x_tensor: A 2-D tensor where the first dimension is batch size.\n",
    "    : num_outputs: The number of output that the new tensor should be.\n",
    "    : return: A 2-D tensor where the second dimension is num_outputs.\n",
    "    \"\"\" \n",
    "    n = x_tensor.shape.as_list()[1] * num_outputs\n",
    "    weight = tf.Variable(tf.truncated_normal([x_tensor.shape.as_list()[1], num_outputs],\\\n",
    "                                             mean=0, stddev=np.sqrt(2./n)))\n",
    "    bias = tf.Variable(tf.zeros(num_outputs))\n",
    "    \n",
    "    x_tensor = tf.add(tf.matmul(x_tensor, weight), bias)\n",
    "    x_tensor = tf.nn.relu(x_tensor)\n",
    "    \n",
    "    return x_tensor\n",
    "\n",
    "\"\"\"\n",
    "DON'T MODIFY ANYTHING IN THIS CELL THAT IS BELOW THIS LINE\n",
    "\"\"\"\n",
    "tests.test_fully_conn(fully_conn)"
   ]
  },
  {
   "cell_type": "markdown",
   "metadata": {},
   "source": [
    "### Output Layer\n",
    "Implement the `output` function to apply a fully connected layer to `x_tensor` with the shape (*Batch Size*, *num_outputs*). Shortcut option: you can use classes from the [TensorFlow Layers](https://www.tensorflow.org/api_docs/python/tf/layers) or [TensorFlow Layers (contrib)](https://www.tensorflow.org/api_guides/python/contrib.layers) packages for this layer. For more of a challenge, only use other TensorFlow packages.\n",
    "\n",
    "**Note:** Activation, softmax, or cross entropy should **not** be applied to this."
   ]
  },
  {
   "cell_type": "code",
   "execution_count": 21,
   "metadata": {
    "collapsed": false
   },
   "outputs": [
    {
     "name": "stdout",
     "output_type": "stream",
     "text": [
      "Tests Passed\n"
     ]
    }
   ],
   "source": [
    "def output(x_tensor, num_outputs):\n",
    "    \"\"\"\n",
    "    Apply a output layer to x_tensor using weight and bias\n",
    "    : x_tensor: A 2-D tensor where the first dimension is batch size.\n",
    "    : num_outputs: The number of output that the new tensor should be.\n",
    "    : return: A 2-D tensor where the second dimension is num_outputs.\n",
    "    \"\"\"\n",
    "    n = x_tensor.shape.as_list()[1] * num_outputs\n",
    "    weight = tf.Variable(tf.truncated_normal([x_tensor.shape.as_list()[1], num_outputs],\\\n",
    "                                             mean=0, stddev=np.sqrt(2./n)))\n",
    "    bias = tf.Variable(tf.zeros(num_outputs))\n",
    "    \n",
    "    x_tensor = tf.add(tf.matmul(x_tensor, weight), bias)\n",
    "    \n",
    "    return x_tensor\n",
    "\n",
    "\"\"\"\n",
    "DON'T MODIFY ANYTHING IN THIS CELL THAT IS BELOW THIS LINE\n",
    "\"\"\"\n",
    "tests.test_output(output)"
   ]
  },
  {
   "cell_type": "markdown",
   "metadata": {},
   "source": [
    "### Create Convolutional Model\n",
    "Implement the function `conv_net` to create a convolutional neural network model. The function takes in a batch of images, `x`, and outputs logits.  Use the layers you created above to create this model:\n",
    "\n",
    "* Apply 1, 2, or 3 Convolution and Max Pool layers\n",
    "* Apply a Flatten Layer\n",
    "* Apply 1, 2, or 3 Fully Connected Layers\n",
    "* Apply an Output Layer\n",
    "* Return the output\n",
    "* Apply [TensorFlow's Dropout](https://www.tensorflow.org/api_docs/python/tf/nn/dropout) to one or more layers in the model using `keep_prob`. "
   ]
  },
  {
   "cell_type": "code",
   "execution_count": 22,
   "metadata": {
    "collapsed": false,
    "scrolled": true
   },
   "outputs": [
    {
     "name": "stdout",
     "output_type": "stream",
     "text": [
      "Neural Network Built!\n"
     ]
    }
   ],
   "source": [
    "def conv_net(x, keep_prob):\n",
    "    \"\"\"\n",
    "    Create a convolutional neural network model\n",
    "    : x: Placeholder tensor that holds image data.\n",
    "    : keep_prob: Placeholder tensor that hold dropout keep probability.\n",
    "    : return: Tensor that represents logits\n",
    "    \"\"\"\n",
    "    x = conv2d_maxpool(x, 32, (3, 3), (1, 1), (2, 2), (2, 2))\n",
    "    x = tf.nn.dropout(x, keep_prob)\n",
    "    \n",
    "    x = conv2d_maxpool(x, 64, (3, 3), (1, 1), (2, 2), (2, 2))\n",
    "    x = tf.nn.dropout(x, keep_prob)\n",
    "    \n",
    "    x = flatten(x)\n",
    "\n",
    "    x = fully_conn(x, 128)\n",
    "    x = tf.nn.dropout(x, keep_prob)\n",
    "\n",
    "    x = output(x, 10)\n",
    "    \n",
    "    return x\n",
    "\n",
    "\"\"\"\n",
    "DON'T MODIFY ANYTHING IN THIS CELL THAT IS BELOW THIS LINE\n",
    "\"\"\"\n",
    "##############################\n",
    "## Build the Neural Network ##\n",
    "##############################\n",
    "\n",
    "# Remove previous weights, bias, inputs, etc..\n",
    "tf.reset_default_graph()\n",
    "\n",
    "# Inputs\n",
    "x = neural_net_image_input((32, 32, 3))\n",
    "y = neural_net_label_input(10)\n",
    "keep_prob = neural_net_keep_prob_input()\n",
    "\n",
    "# Model\n",
    "logits = conv_net(x, keep_prob)\n",
    "\n",
    "# Name logits Tensor, so that is can be loaded from disk after training\n",
    "logits = tf.identity(logits, name='logits')\n",
    "\n",
    "# Loss and Optimizer\n",
    "cost = tf.reduce_mean(tf.nn.softmax_cross_entropy_with_logits(logits=logits, labels=y))\n",
    "optimizer = tf.train.AdamOptimizer().minimize(cost)\n",
    "\n",
    "# Accuracy\n",
    "correct_pred = tf.equal(tf.argmax(logits, 1), tf.argmax(y, 1))\n",
    "accuracy = tf.reduce_mean(tf.cast(correct_pred, tf.float32), name='accuracy')\n",
    "\n",
    "tests.test_conv_net(conv_net)"
   ]
  },
  {
   "cell_type": "markdown",
   "metadata": {},
   "source": [
    "## Train the Neural Network\n",
    "### Single Optimization\n",
    "Implement the function `train_neural_network` to do a single optimization.  The optimization should use `optimizer` to optimize in `session` with a `feed_dict` of the following:\n",
    "* `x` for image input\n",
    "* `y` for labels\n",
    "* `keep_prob` for keep probability for dropout\n",
    "\n",
    "This function will be called for each batch, so `tf.global_variables_initializer()` has already been called.\n",
    "\n",
    "Note: Nothing needs to be returned. This function is only optimizing the neural network."
   ]
  },
  {
   "cell_type": "code",
   "execution_count": 23,
   "metadata": {
    "collapsed": false
   },
   "outputs": [
    {
     "name": "stdout",
     "output_type": "stream",
     "text": [
      "Tests Passed\n"
     ]
    }
   ],
   "source": [
    "def train_neural_network(session, optimizer, keep_probability, feature_batch, label_batch):\n",
    "    \"\"\"\n",
    "    Optimize the session on a batch of images and labels\n",
    "    : session: Current TensorFlow session\n",
    "    : optimizer: TensorFlow optimizer function\n",
    "    : keep_probability: keep probability\n",
    "    : feature_batch: Batch of Numpy image data\n",
    "    : label_batch: Batch of Numpy label data\n",
    "    \"\"\"\n",
    "    parameters = {x:feature_batch, y:label_batch, keep_prob:keep_probability}\n",
    "    session.run(optimizer, feed_dict=parameters)\n",
    "\n",
    "\"\"\"\n",
    "DON'T MODIFY ANYTHING IN THIS CELL THAT IS BELOW THIS LINE\n",
    "\"\"\"\n",
    "tests.test_train_nn(train_neural_network)"
   ]
  },
  {
   "cell_type": "markdown",
   "metadata": {},
   "source": [
    "### Show Stats\n",
    "Implement the function `print_stats` to print loss and validation accuracy.  Use the global variables `valid_features` and `valid_labels` to calculate validation accuracy.  Use a keep probability of `1.0` to calculate the loss and validation accuracy."
   ]
  },
  {
   "cell_type": "code",
   "execution_count": 24,
   "metadata": {
    "collapsed": false
   },
   "outputs": [],
   "source": [
    "def print_stats(session, feature_batch, label_batch, cost, accuracy):\n",
    "    \"\"\"\n",
    "    Print information about loss and validation accuracy\n",
    "    : session: Current TensorFlow session\n",
    "    : feature_batch: Batch of Numpy image data\n",
    "    : label_batch: Batch of Numpy label data\n",
    "    : cost: TensorFlow cost function\n",
    "    : accuracy: TensorFlow accuracy function\n",
    "    \"\"\"\n",
    "    parameters = {x:feature_batch, y:label_batch, keep_prob:1.}\n",
    "    loss = session.run(cost, feed_dict=parameters)\n",
    "    acc = session.run(accuracy, feed_dict=parameters)\n",
    "    \n",
    "    valid_acc = session.run(accuracy, feed_dict={x:valid_features, y:valid_labels, keep_prob:1.})\n",
    "    \n",
    "    print('Loss: {:.6f} - Accuracy: {:.6f} - Valid Accuracy: {:.6}'.format(loss, acc, valid_acc))"
   ]
  },
  {
   "cell_type": "markdown",
   "metadata": {},
   "source": [
    "### Hyperparameters\n",
    "Tune the following parameters:\n",
    "* Set `epochs` to the number of iterations until the network stops learning or start overfitting\n",
    "* Set `batch_size` to the highest number that your machine has memory for.  Most people set them to common sizes of memory:\n",
    " * 64\n",
    " * 128\n",
    " * 256\n",
    " * ...\n",
    "* Set `keep_probability` to the probability of keeping a node using dropout"
   ]
  },
  {
   "cell_type": "code",
   "execution_count": 25,
   "metadata": {
    "collapsed": false
   },
   "outputs": [],
   "source": [
    "# TODO: Tune Parameters\n",
    "epochs = 20\n",
    "batch_size = 64\n",
    "keep_probability = .6"
   ]
  },
  {
   "cell_type": "markdown",
   "metadata": {},
   "source": [
    "### Train on a Single CIFAR-10 Batch\n",
    "Instead of training the neural network on all the CIFAR-10 batches of data, let's use a single batch. This should save time while you iterate on the model to get a better accuracy.  Once the final validation accuracy is 50% or greater, run the model on all the data in the next section."
   ]
  },
  {
   "cell_type": "code",
   "execution_count": 26,
   "metadata": {
    "collapsed": false
   },
   "outputs": [
    {
     "name": "stdout",
     "output_type": "stream",
     "text": [
      "Checking the Training on a Single Batch...\n",
      "Epoch  1, CIFAR-10 Batch 1:  Loss: 2.101385 - Accuracy: 0.225000 - Valid Accuracy: 0.2922\n",
      "Epoch  2, CIFAR-10 Batch 1:  Loss: 1.970141 - Accuracy: 0.350000 - Valid Accuracy: 0.3668\n",
      "Epoch  3, CIFAR-10 Batch 1:  Loss: 1.820807 - Accuracy: 0.425000 - Valid Accuracy: 0.415\n",
      "Epoch  4, CIFAR-10 Batch 1:  Loss: 1.747840 - Accuracy: 0.475000 - Valid Accuracy: 0.4388\n",
      "Epoch  5, CIFAR-10 Batch 1:  Loss: 1.640280 - Accuracy: 0.450000 - Valid Accuracy: 0.463\n",
      "Epoch  6, CIFAR-10 Batch 1:  Loss: 1.591220 - Accuracy: 0.400000 - Valid Accuracy: 0.4842\n",
      "Epoch  7, CIFAR-10 Batch 1:  Loss: 1.556235 - Accuracy: 0.500000 - Valid Accuracy: 0.4998\n",
      "Epoch  8, CIFAR-10 Batch 1:  Loss: 1.490902 - Accuracy: 0.425000 - Valid Accuracy: 0.511\n",
      "Epoch  9, CIFAR-10 Batch 1:  Loss: 1.480215 - Accuracy: 0.450000 - Valid Accuracy: 0.5156\n",
      "Epoch 10, CIFAR-10 Batch 1:  Loss: 1.386017 - Accuracy: 0.500000 - Valid Accuracy: 0.5262\n",
      "Epoch 11, CIFAR-10 Batch 1:  Loss: 1.342171 - Accuracy: 0.475000 - Valid Accuracy: 0.5408\n",
      "Epoch 12, CIFAR-10 Batch 1:  Loss: 1.296494 - Accuracy: 0.575000 - Valid Accuracy: 0.5314\n",
      "Epoch 13, CIFAR-10 Batch 1:  Loss: 1.313939 - Accuracy: 0.550000 - Valid Accuracy: 0.531\n",
      "Epoch 14, CIFAR-10 Batch 1:  Loss: 1.244007 - Accuracy: 0.550000 - Valid Accuracy: 0.5486\n",
      "Epoch 15, CIFAR-10 Batch 1:  Loss: 1.211523 - Accuracy: 0.575000 - Valid Accuracy: 0.5564\n",
      "Epoch 16, CIFAR-10 Batch 1:  Loss: 1.118333 - Accuracy: 0.650000 - Valid Accuracy: 0.5536\n",
      "Epoch 17, CIFAR-10 Batch 1:  Loss: 1.117248 - Accuracy: 0.700000 - Valid Accuracy: 0.563\n",
      "Epoch 18, CIFAR-10 Batch 1:  Loss: 1.089712 - Accuracy: 0.650000 - Valid Accuracy: 0.5512\n",
      "Epoch 19, CIFAR-10 Batch 1:  Loss: 1.048174 - Accuracy: 0.725000 - Valid Accuracy: 0.5698\n",
      "Epoch 20, CIFAR-10 Batch 1:  Loss: 1.035261 - Accuracy: 0.650000 - Valid Accuracy: 0.571\n",
      "FINISHED!!\n"
     ]
    }
   ],
   "source": [
    "\"\"\"\n",
    "DON'T MODIFY ANYTHING IN THIS CELL\n",
    "\"\"\"\n",
    "print('Checking the Training on a Single Batch...')\n",
    "with tf.Session() as sess:\n",
    "    # Initializing the variables\n",
    "    sess.run(tf.global_variables_initializer())\n",
    "    \n",
    "    # Training cycle\n",
    "    for epoch in range(epochs):\n",
    "        batch_i = 1\n",
    "        for batch_features, batch_labels in helper.load_preprocess_training_batch(batch_i, batch_size):\n",
    "            train_neural_network(sess, optimizer, keep_probability, batch_features, batch_labels)\n",
    "        print('Epoch {:>2}, CIFAR-10 Batch {}:  '.format(epoch + 1, batch_i), end='')\n",
    "        print_stats(sess, batch_features, batch_labels, cost, accuracy)\n",
    "print('FINISHED!!')"
   ]
  },
  {
   "cell_type": "markdown",
   "metadata": {},
   "source": [
    "### Fully Train the Model\n",
    "Now that you got a good accuracy with a single CIFAR-10 batch, try it with all five batches."
   ]
  },
  {
   "cell_type": "code",
   "execution_count": 27,
   "metadata": {
    "collapsed": false
   },
   "outputs": [
    {
     "name": "stdout",
     "output_type": "stream",
     "text": [
      "Training...\n",
      "Epoch  1, CIFAR-10 Batch 1:  Loss: 1.989767 - Accuracy: 0.300000 - Valid Accuracy: 0.3296\n",
      "Epoch  1, CIFAR-10 Batch 2:  Loss: 1.722491 - Accuracy: 0.400000 - Valid Accuracy: 0.4126\n",
      "Epoch  1, CIFAR-10 Batch 3:  Loss: 1.501184 - Accuracy: 0.425000 - Valid Accuracy: 0.409\n",
      "Epoch  1, CIFAR-10 Batch 4:  Loss: 1.620449 - Accuracy: 0.350000 - Valid Accuracy: 0.4428\n",
      "Epoch  1, CIFAR-10 Batch 5:  Loss: 1.548679 - Accuracy: 0.500000 - Valid Accuracy: 0.456\n",
      "Epoch  2, CIFAR-10 Batch 1:  Loss: 1.780696 - Accuracy: 0.400000 - Valid Accuracy: 0.4754\n",
      "Epoch  2, CIFAR-10 Batch 2:  Loss: 1.430059 - Accuracy: 0.500000 - Valid Accuracy: 0.484\n",
      "Epoch  2, CIFAR-10 Batch 3:  Loss: 1.249546 - Accuracy: 0.550000 - Valid Accuracy: 0.4904\n",
      "Epoch  2, CIFAR-10 Batch 4:  Loss: 1.366251 - Accuracy: 0.425000 - Valid Accuracy: 0.5222\n",
      "Epoch  2, CIFAR-10 Batch 5:  Loss: 1.443412 - Accuracy: 0.550000 - Valid Accuracy: 0.5274\n",
      "Epoch  3, CIFAR-10 Batch 1:  Loss: 1.646732 - Accuracy: 0.450000 - Valid Accuracy: 0.5384\n",
      "Epoch  3, CIFAR-10 Batch 2:  Loss: 1.214091 - Accuracy: 0.500000 - Valid Accuracy: 0.5378\n",
      "Epoch  3, CIFAR-10 Batch 3:  Loss: 1.069349 - Accuracy: 0.650000 - Valid Accuracy: 0.5454\n",
      "Epoch  3, CIFAR-10 Batch 4:  Loss: 1.238747 - Accuracy: 0.550000 - Valid Accuracy: 0.5514\n",
      "Epoch  3, CIFAR-10 Batch 5:  Loss: 1.415212 - Accuracy: 0.575000 - Valid Accuracy: 0.5472\n",
      "Epoch  4, CIFAR-10 Batch 1:  Loss: 1.512010 - Accuracy: 0.550000 - Valid Accuracy: 0.565\n",
      "Epoch  4, CIFAR-10 Batch 2:  Loss: 1.120869 - Accuracy: 0.550000 - Valid Accuracy: 0.567\n",
      "Epoch  4, CIFAR-10 Batch 3:  Loss: 1.026430 - Accuracy: 0.675000 - Valid Accuracy: 0.5516\n",
      "Epoch  4, CIFAR-10 Batch 4:  Loss: 1.147885 - Accuracy: 0.575000 - Valid Accuracy: 0.5752\n",
      "Epoch  4, CIFAR-10 Batch 5:  Loss: 1.228084 - Accuracy: 0.625000 - Valid Accuracy: 0.5736\n",
      "Epoch  5, CIFAR-10 Batch 1:  Loss: 1.385423 - Accuracy: 0.500000 - Valid Accuracy: 0.5892\n",
      "Epoch  5, CIFAR-10 Batch 2:  Loss: 1.049462 - Accuracy: 0.600000 - Valid Accuracy: 0.588\n",
      "Epoch  5, CIFAR-10 Batch 3:  Loss: 0.921867 - Accuracy: 0.650000 - Valid Accuracy: 0.589\n",
      "Epoch  5, CIFAR-10 Batch 4:  Loss: 1.079966 - Accuracy: 0.575000 - Valid Accuracy: 0.6018\n",
      "Epoch  5, CIFAR-10 Batch 5:  Loss: 1.131917 - Accuracy: 0.575000 - Valid Accuracy: 0.5894\n",
      "Epoch  6, CIFAR-10 Batch 1:  Loss: 1.219429 - Accuracy: 0.625000 - Valid Accuracy: 0.5916\n",
      "Epoch  6, CIFAR-10 Batch 2:  Loss: 0.982426 - Accuracy: 0.625000 - Valid Accuracy: 0.6128\n",
      "Epoch  6, CIFAR-10 Batch 3:  Loss: 0.920766 - Accuracy: 0.675000 - Valid Accuracy: 0.6112\n",
      "Epoch  6, CIFAR-10 Batch 4:  Loss: 1.066860 - Accuracy: 0.575000 - Valid Accuracy: 0.621\n",
      "Epoch  6, CIFAR-10 Batch 5:  Loss: 1.082059 - Accuracy: 0.650000 - Valid Accuracy: 0.6152\n",
      "Epoch  7, CIFAR-10 Batch 1:  Loss: 1.111044 - Accuracy: 0.600000 - Valid Accuracy: 0.631\n",
      "Epoch  7, CIFAR-10 Batch 2:  Loss: 0.941064 - Accuracy: 0.675000 - Valid Accuracy: 0.6256\n",
      "Epoch  7, CIFAR-10 Batch 3:  Loss: 0.806263 - Accuracy: 0.800000 - Valid Accuracy: 0.626\n",
      "Epoch  7, CIFAR-10 Batch 4:  Loss: 1.037228 - Accuracy: 0.575000 - Valid Accuracy: 0.6274\n",
      "Epoch  7, CIFAR-10 Batch 5:  Loss: 0.970560 - Accuracy: 0.725000 - Valid Accuracy: 0.64\n",
      "Epoch  8, CIFAR-10 Batch 1:  Loss: 1.077721 - Accuracy: 0.625000 - Valid Accuracy: 0.6252\n",
      "Epoch  8, CIFAR-10 Batch 2:  Loss: 0.907088 - Accuracy: 0.675000 - Valid Accuracy: 0.6366\n",
      "Epoch  8, CIFAR-10 Batch 3:  Loss: 0.792508 - Accuracy: 0.750000 - Valid Accuracy: 0.6324\n",
      "Epoch  8, CIFAR-10 Batch 4:  Loss: 0.938498 - Accuracy: 0.650000 - Valid Accuracy: 0.6472\n",
      "Epoch  8, CIFAR-10 Batch 5:  Loss: 0.988614 - Accuracy: 0.750000 - Valid Accuracy: 0.6384\n",
      "Epoch  9, CIFAR-10 Batch 1:  Loss: 1.011035 - Accuracy: 0.625000 - Valid Accuracy: 0.6462\n",
      "Epoch  9, CIFAR-10 Batch 2:  Loss: 0.889358 - Accuracy: 0.650000 - Valid Accuracy: 0.6404\n",
      "Epoch  9, CIFAR-10 Batch 3:  Loss: 0.768257 - Accuracy: 0.800000 - Valid Accuracy: 0.6534\n",
      "Epoch  9, CIFAR-10 Batch 4:  Loss: 0.903631 - Accuracy: 0.625000 - Valid Accuracy: 0.6416\n",
      "Epoch  9, CIFAR-10 Batch 5:  Loss: 0.862400 - Accuracy: 0.750000 - Valid Accuracy: 0.6598\n",
      "Epoch 10, CIFAR-10 Batch 1:  Loss: 0.993186 - Accuracy: 0.675000 - Valid Accuracy: 0.6632\n",
      "Epoch 10, CIFAR-10 Batch 2:  Loss: 0.852718 - Accuracy: 0.650000 - Valid Accuracy: 0.6424\n",
      "Epoch 10, CIFAR-10 Batch 3:  Loss: 0.700293 - Accuracy: 0.800000 - Valid Accuracy: 0.657\n",
      "Epoch 10, CIFAR-10 Batch 4:  Loss: 0.849564 - Accuracy: 0.700000 - Valid Accuracy: 0.6614\n",
      "Epoch 10, CIFAR-10 Batch 5:  Loss: 0.847195 - Accuracy: 0.725000 - Valid Accuracy: 0.659\n",
      "Epoch 11, CIFAR-10 Batch 1:  Loss: 0.889382 - Accuracy: 0.725000 - Valid Accuracy: 0.659\n",
      "Epoch 11, CIFAR-10 Batch 2:  Loss: 0.788886 - Accuracy: 0.750000 - Valid Accuracy: 0.6702\n",
      "Epoch 11, CIFAR-10 Batch 3:  Loss: 0.666820 - Accuracy: 0.825000 - Valid Accuracy: 0.6632\n",
      "Epoch 11, CIFAR-10 Batch 4:  Loss: 0.826150 - Accuracy: 0.675000 - Valid Accuracy: 0.6716\n",
      "Epoch 11, CIFAR-10 Batch 5:  Loss: 0.806586 - Accuracy: 0.775000 - Valid Accuracy: 0.6638\n",
      "Epoch 12, CIFAR-10 Batch 1:  Loss: 0.868007 - Accuracy: 0.700000 - Valid Accuracy: 0.6624\n",
      "Epoch 12, CIFAR-10 Batch 2:  Loss: 0.829191 - Accuracy: 0.675000 - Valid Accuracy: 0.6742\n",
      "Epoch 12, CIFAR-10 Batch 3:  Loss: 0.638479 - Accuracy: 0.850000 - Valid Accuracy: 0.6662\n",
      "Epoch 12, CIFAR-10 Batch 4:  Loss: 0.795752 - Accuracy: 0.725000 - Valid Accuracy: 0.6698\n",
      "Epoch 12, CIFAR-10 Batch 5:  Loss: 0.769069 - Accuracy: 0.875000 - Valid Accuracy: 0.6774\n",
      "Epoch 13, CIFAR-10 Batch 1:  Loss: 0.842495 - Accuracy: 0.750000 - Valid Accuracy: 0.6584\n",
      "Epoch 13, CIFAR-10 Batch 2:  Loss: 0.798911 - Accuracy: 0.775000 - Valid Accuracy: 0.6842\n",
      "Epoch 13, CIFAR-10 Batch 3:  Loss: 0.632472 - Accuracy: 0.850000 - Valid Accuracy: 0.674\n",
      "Epoch 13, CIFAR-10 Batch 4:  Loss: 0.804595 - Accuracy: 0.650000 - Valid Accuracy: 0.6892\n",
      "Epoch 13, CIFAR-10 Batch 5:  Loss: 0.778019 - Accuracy: 0.825000 - Valid Accuracy: 0.6796\n",
      "Epoch 14, CIFAR-10 Batch 1:  Loss: 0.848543 - Accuracy: 0.725000 - Valid Accuracy: 0.6784\n",
      "Epoch 14, CIFAR-10 Batch 2:  Loss: 0.784021 - Accuracy: 0.775000 - Valid Accuracy: 0.6878\n",
      "Epoch 14, CIFAR-10 Batch 3:  Loss: 0.612849 - Accuracy: 0.875000 - Valid Accuracy: 0.6758\n",
      "Epoch 14, CIFAR-10 Batch 4:  Loss: 0.799927 - Accuracy: 0.700000 - Valid Accuracy: 0.6806\n",
      "Epoch 14, CIFAR-10 Batch 5:  Loss: 0.763277 - Accuracy: 0.800000 - Valid Accuracy: 0.6856\n",
      "Epoch 15, CIFAR-10 Batch 1:  Loss: 0.748219 - Accuracy: 0.700000 - Valid Accuracy: 0.6862\n",
      "Epoch 15, CIFAR-10 Batch 2:  Loss: 0.796746 - Accuracy: 0.750000 - Valid Accuracy: 0.689\n",
      "Epoch 15, CIFAR-10 Batch 3:  Loss: 0.565136 - Accuracy: 0.875000 - Valid Accuracy: 0.6868\n",
      "Epoch 15, CIFAR-10 Batch 4:  Loss: 0.776146 - Accuracy: 0.675000 - Valid Accuracy: 0.6974\n",
      "Epoch 15, CIFAR-10 Batch 5:  Loss: 0.743839 - Accuracy: 0.800000 - Valid Accuracy: 0.6848\n",
      "Epoch 16, CIFAR-10 Batch 1:  Loss: 0.746360 - Accuracy: 0.750000 - Valid Accuracy: 0.6858\n",
      "Epoch 16, CIFAR-10 Batch 2:  Loss: 0.749172 - Accuracy: 0.750000 - Valid Accuracy: 0.6906\n",
      "Epoch 16, CIFAR-10 Batch 3:  Loss: 0.549157 - Accuracy: 0.875000 - Valid Accuracy: 0.6914\n",
      "Epoch 16, CIFAR-10 Batch 4:  Loss: 0.805165 - Accuracy: 0.725000 - Valid Accuracy: 0.696\n",
      "Epoch 16, CIFAR-10 Batch 5:  Loss: 0.721867 - Accuracy: 0.850000 - Valid Accuracy: 0.6952\n",
      "Epoch 17, CIFAR-10 Batch 1:  Loss: 0.723810 - Accuracy: 0.725000 - Valid Accuracy: 0.6992\n",
      "Epoch 17, CIFAR-10 Batch 2:  Loss: 0.770196 - Accuracy: 0.675000 - Valid Accuracy: 0.6908\n",
      "Epoch 17, CIFAR-10 Batch 3:  Loss: 0.519954 - Accuracy: 0.950000 - Valid Accuracy: 0.697\n",
      "Epoch 17, CIFAR-10 Batch 4:  Loss: 0.741805 - Accuracy: 0.650000 - Valid Accuracy: 0.6906\n",
      "Epoch 17, CIFAR-10 Batch 5:  Loss: 0.742273 - Accuracy: 0.750000 - Valid Accuracy: 0.6954\n",
      "Epoch 18, CIFAR-10 Batch 1:  Loss: 0.740030 - Accuracy: 0.750000 - Valid Accuracy: 0.7022\n",
      "Epoch 18, CIFAR-10 Batch 2:  Loss: 0.698160 - Accuracy: 0.825000 - Valid Accuracy: 0.695\n",
      "Epoch 18, CIFAR-10 Batch 3:  Loss: 0.510477 - Accuracy: 0.875000 - Valid Accuracy: 0.7026\n",
      "Epoch 18, CIFAR-10 Batch 4:  Loss: 0.715695 - Accuracy: 0.750000 - Valid Accuracy: 0.6964\n",
      "Epoch 18, CIFAR-10 Batch 5:  Loss: 0.727301 - Accuracy: 0.800000 - Valid Accuracy: 0.705\n",
      "Epoch 19, CIFAR-10 Batch 1:  Loss: 0.737723 - Accuracy: 0.750000 - Valid Accuracy: 0.7072\n",
      "Epoch 19, CIFAR-10 Batch 2:  Loss: 0.748427 - Accuracy: 0.750000 - Valid Accuracy: 0.693\n",
      "Epoch 19, CIFAR-10 Batch 3:  Loss: 0.545467 - Accuracy: 0.850000 - Valid Accuracy: 0.7028\n",
      "Epoch 19, CIFAR-10 Batch 4:  Loss: 0.668517 - Accuracy: 0.725000 - Valid Accuracy: 0.7074\n",
      "Epoch 19, CIFAR-10 Batch 5:  Loss: 0.744886 - Accuracy: 0.800000 - Valid Accuracy: 0.6934\n",
      "Epoch 20, CIFAR-10 Batch 1:  Loss: 0.694921 - Accuracy: 0.800000 - Valid Accuracy: 0.6972\n",
      "Epoch 20, CIFAR-10 Batch 2:  Loss: 0.713845 - Accuracy: 0.825000 - Valid Accuracy: 0.702\n",
      "Epoch 20, CIFAR-10 Batch 3:  Loss: 0.506486 - Accuracy: 0.925000 - Valid Accuracy: 0.7044\n",
      "Epoch 20, CIFAR-10 Batch 4:  Loss: 0.721636 - Accuracy: 0.650000 - Valid Accuracy: 0.7054\n",
      "Epoch 20, CIFAR-10 Batch 5:  Loss: 0.687450 - Accuracy: 0.825000 - Valid Accuracy: 0.705\n"
     ]
    }
   ],
   "source": [
    "\"\"\"\n",
    "DON'T MODIFY ANYTHING IN THIS CELL\n",
    "\"\"\"\n",
    "save_model_path = './image_classification'\n",
    "\n",
    "print('Training...')\n",
    "with tf.Session() as sess:\n",
    "    # Initializing the variables\n",
    "    sess.run(tf.global_variables_initializer())\n",
    "    \n",
    "    # Training cycle\n",
    "    for epoch in range(epochs):\n",
    "        # Loop over all batches\n",
    "        n_batches = 5\n",
    "        for batch_i in range(1, n_batches + 1):\n",
    "            for batch_features, batch_labels in helper.load_preprocess_training_batch(batch_i, batch_size):\n",
    "                train_neural_network(sess, optimizer, keep_probability, batch_features, batch_labels)\n",
    "            print('Epoch {:>2}, CIFAR-10 Batch {}:  '.format(epoch + 1, batch_i), end='')\n",
    "            print_stats(sess, batch_features, batch_labels, cost, accuracy)\n",
    "            \n",
    "    # Save Model\n",
    "    saver = tf.train.Saver()\n",
    "    save_path = saver.save(sess, save_model_path)"
   ]
  },
  {
   "cell_type": "markdown",
   "metadata": {},
   "source": [
    "# Checkpoint\n",
    "The model has been saved to disk.\n",
    "## Test Model\n",
    "Test your model against the test dataset.  This will be your final accuracy. You should have an accuracy greater than 50%. If you don't, keep tweaking the model architecture and parameters."
   ]
  },
  {
   "cell_type": "code",
   "execution_count": 28,
   "metadata": {
    "collapsed": false
   },
   "outputs": [
    {
     "name": "stdout",
     "output_type": "stream",
     "text": [
      "Testing Accuracy: 0.7054140127388535\n",
      "\n"
     ]
    },
    {
     "data": {
      "image/png": "[encoded data removed]",
      "text/plain": [
       "<matplotlib.figure.Figure at 0x2041df04470>"
      ]
     },
     "metadata": {
      "image/png": {
       "height": 319,
       "width": 355
      }
     },
     "output_type": "display_data"
    }
   ],
   "source": [
    "\"\"\"\n",
    "DON'T MODIFY ANYTHING IN THIS CELL\n",
    "\"\"\"\n",
    "%matplotlib inline\n",
    "%config InlineBackend.figure_format = 'retina'\n",
    "\n",
    "import tensorflow as tf\n",
    "import pickle\n",
    "import helper\n",
    "import random\n",
    "\n",
    "# Set batch size if not already set\n",
    "try:\n",
    "    if batch_size:\n",
    "        pass\n",
    "except NameError:\n",
    "    batch_size = 64\n",
    "\n",
    "save_model_path = './image_classification'\n",
    "n_samples = 4\n",
    "top_n_predictions = 3\n",
    "\n",
    "def test_model():\n",
    "    \"\"\"\n",
    "    Test the saved model against the test dataset\n",
    "    \"\"\"\n",
    "\n",
    "    test_features, test_labels = pickle.load(open('preprocess_training.p', mode='rb'))\n",
    "    loaded_graph = tf.Graph()\n",
    "\n",
    "    with tf.Session(graph=loaded_graph) as sess:\n",
    "        # Load model\n",
    "        loader = tf.train.import_meta_graph(save_model_path + '.meta')\n",
    "        loader.restore(sess, save_model_path)\n",
    "\n",
    "        # Get Tensors from loaded model\n",
    "        loaded_x = loaded_graph.get_tensor_by_name('x:0')\n",
    "        loaded_y = loaded_graph.get_tensor_by_name('y:0')\n",
    "        loaded_keep_prob = loaded_graph.get_tensor_by_name('keep_prob:0')\n",
    "        loaded_logits = loaded_graph.get_tensor_by_name('logits:0')\n",
    "        loaded_acc = loaded_graph.get_tensor_by_name('accuracy:0')\n",
    "        \n",
    "        # Get accuracy in batches for memory limitations\n",
    "        test_batch_acc_total = 0\n",
    "        test_batch_count = 0\n",
    "        \n",
    "        for train_feature_batch, train_label_batch in helper.batch_features_labels(test_features, test_labels, batch_size):\n",
    "            test_batch_acc_total += sess.run(\n",
    "                loaded_acc,\n",
    "                feed_dict={loaded_x: train_feature_batch, loaded_y: train_label_batch, loaded_keep_prob: 1.0})\n",
    "            test_batch_count += 1\n",
    "\n",
    "        print('Testing Accuracy: {}\\n'.format(test_batch_acc_total/test_batch_count))\n",
    "\n",
    "        # Print Random Samples\n",
    "        random_test_features, random_test_labels = tuple(zip(*random.sample(list(zip(test_features, test_labels)), n_samples)))\n",
    "        random_test_predictions = sess.run(\n",
    "            tf.nn.top_k(tf.nn.softmax(loaded_logits), top_n_predictions),\n",
    "            feed_dict={loaded_x: random_test_features, loaded_y: random_test_labels, loaded_keep_prob: 1.0})\n",
    "        helper.display_image_predictions(random_test_features, random_test_labels, random_test_predictions)\n",
    "\n",
    "\n",
    "test_model()"
   ]
  },
  {
   "cell_type": "markdown",
   "metadata": {},
   "source": [
    "## Why 50-80% Accuracy?\n",
    "You might be wondering why you can't get an accuracy any higher. First things first, 50% isn't bad for a simple CNN.  Pure guessing would get you 10% accuracy. That's because there are many more techniques that can be applied to your model and we recemmond that once you are done with this project, you explore!\n",
    "\n",
    "## Submitting This Project\n",
    "When submitting this project, make sure to run all the cells before saving the notebook.  Save the notebook file as \"image_classification.ipynb\" and save it as a HTML file under \"File\" -> \"Download as\".  Include the \"helper.py\" and \"problem_unittests.py\" files in your submission."
   ]
  }
 ],
 "metadata": {
  "anaconda-cloud": {},
  "kernelspec": {
   "display_name": "Python3",
   "language": "python",
   "name": "python3"
  },
  "language_info": {
   "codemirror_mode": {
    "name": "ipython",
    "version": 3
   },
   "file_extension": ".py",
   "mimetype": "text/x-python",
   "name": "python",
   "nbconvert_exporter": "python",
   "pygments_lexer": "ipython3",
   "version": "3.5.2"
  }
 },
 "nbformat": 4,
 "nbformat_minor": 0
}
