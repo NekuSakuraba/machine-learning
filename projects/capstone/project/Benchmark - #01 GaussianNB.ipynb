{
 "cells": [
  {
   "cell_type": "markdown",
   "metadata": {},
   "source": [
    "Let's load some libraries in order to build a GaussianNB as a benchmark"
   ]
  },
  {
   "cell_type": "code",
   "execution_count": 1,
   "metadata": {
    "collapsed": true
   },
   "outputs": [],
   "source": [
    "# Math stuff\n",
    "import numpy as np\n",
    "# For handling dataset\n",
    "import pandas as pd\n",
    "# For plotting\n",
    "import matplotlib.pyplot as plt\n",
    "# helping to remove outliers\n",
    "from scipy.stats import iqr\n",
    "# For undersampling\n",
    "from imblearn.under_sampling import RandomUnderSampler\n",
    "# metrics\n",
    "from sklearn.metrics import precision_recall_curve\n",
    "from sklearn.metrics import average_precision_score\n",
    "# Model used as a benchmark\n",
    "from sklearn.naive_bayes import GaussianNB"
   ]
  },
  {
   "cell_type": "markdown",
   "metadata": {},
   "source": [
    "let's load the dataset and extract the V11, V13, V15 and the Class features"
   ]
  },
  {
   "cell_type": "code",
   "execution_count": 2,
   "metadata": {
    "collapsed": true
   },
   "outputs": [],
   "source": [
    "df = pd.read_csv('creditcard.csv')\n",
    "df = df[['V11', 'V13', 'V15', 'Class']]"
   ]
  },
  {
   "cell_type": "code",
   "execution_count": 3,
   "metadata": {
    "collapsed": false
   },
   "outputs": [
    {
     "data": {
      "text/html": [
       "<div>\n",
       "<table border=\"1\" class=\"dataframe\">\n",
       "  <thead>\n",
       "    <tr style=\"text-align: right;\">\n",
       "      <th></th>\n",
       "      <th>V11</th>\n",
       "      <th>V13</th>\n",
       "      <th>V15</th>\n",
       "      <th>Class</th>\n",
       "    </tr>\n",
       "  </thead>\n",
       "  <tbody>\n",
       "    <tr>\n",
       "      <th>0</th>\n",
       "      <td>-0.551600</td>\n",
       "      <td>-0.991390</td>\n",
       "      <td>1.468177</td>\n",
       "      <td>0</td>\n",
       "    </tr>\n",
       "    <tr>\n",
       "      <th>1</th>\n",
       "      <td>1.612727</td>\n",
       "      <td>0.489095</td>\n",
       "      <td>0.635558</td>\n",
       "      <td>0</td>\n",
       "    </tr>\n",
       "    <tr>\n",
       "      <th>2</th>\n",
       "      <td>0.624501</td>\n",
       "      <td>0.717293</td>\n",
       "      <td>2.345865</td>\n",
       "      <td>0</td>\n",
       "    </tr>\n",
       "    <tr>\n",
       "      <th>3</th>\n",
       "      <td>-0.226487</td>\n",
       "      <td>0.507757</td>\n",
       "      <td>-0.631418</td>\n",
       "      <td>0</td>\n",
       "    </tr>\n",
       "    <tr>\n",
       "      <th>4</th>\n",
       "      <td>-0.822843</td>\n",
       "      <td>1.345852</td>\n",
       "      <td>0.175121</td>\n",
       "      <td>0</td>\n",
       "    </tr>\n",
       "  </tbody>\n",
       "</table>\n",
       "</div>"
      ],
      "text/plain": [
       "        V11       V13       V15  Class\n",
       "0 -0.551600 -0.991390  1.468177      0\n",
       "1  1.612727  0.489095  0.635558      0\n",
       "2  0.624501  0.717293  2.345865      0\n",
       "3 -0.226487  0.507757 -0.631418      0\n",
       "4 -0.822843  1.345852  0.175121      0"
      ]
     },
     "execution_count": 3,
     "metadata": {},
     "output_type": "execute_result"
    }
   ],
   "source": [
    "df.head()"
   ]
  },
  {
   "cell_type": "code",
   "execution_count": 4,
   "metadata": {
    "collapsed": true
   },
   "outputs": [],
   "source": [
    "X = df.iloc[:,:].copy()"
   ]
  },
  {
   "cell_type": "markdown",
   "metadata": {},
   "source": [
    "let's plot a boxplot and take a closer look at the distributions"
   ]
  },
  {
   "cell_type": "code",
   "execution_count": 5,
   "metadata": {
    "collapsed": false,
    "scrolled": false
   },
   "outputs": [
    {
     "data": {
      "image/png": "[encoded data removed]",
      "text/plain": [
       "<matplotlib.figure.Figure at 0xf316908>"
      ]
     },
     "metadata": {},
     "output_type": "display_data"
    }
   ],
   "source": [
    "ax = plt.subplot(131)\n",
    "X.boxplot('V11', 'Class', ax=ax)\n",
    "\n",
    "ax = plt.subplot(132)\n",
    "X.boxplot('V13', 'Class', ax=ax)\n",
    "\n",
    "ax = plt.subplot(133)\n",
    "X.boxplot('V15', 'Class', ax=ax)\n",
    "\n",
    "plt.tight_layout()\n",
    "plt.show()"
   ]
  },
  {
   "cell_type": "markdown",
   "metadata": {},
   "source": [
    "by looking at the boxplot, we can see that there are a lot of outliers. <br />\n",
    "this might be a problem, since the GaussianNB uses as a model a Gaussian distribution, the outliers might influence on the mean of the data, and the classifier might not perform very well.\n",
    "\n",
    "\n",
    "for now, I'll compare the results of the classifier with the outliers and without the classifiers."
   ]
  },
  {
   "cell_type": "code",
   "execution_count": 6,
   "metadata": {
    "collapsed": true
   },
   "outputs": [],
   "source": [
    "# separating the label from the dataset\n",
    "X_new, y_new = X.iloc[:,:-1].copy(), X.iloc[:,-1].copy()"
   ]
  },
  {
   "cell_type": "code",
   "execution_count": 7,
   "metadata": {
    "collapsed": false
   },
   "outputs": [
    {
     "name": "stdout",
     "output_type": "stream",
     "text": [
      "some indices: [266085 172120  15136  96393 208225]\n",
      "total sample: 15252\n"
     ]
    }
   ],
   "source": [
    "# taking a subsample\n",
    "rus = RandomUnderSampler(ratio={0:492*30, 1:492}, random_state=0, return_indices=True)\n",
    "X_resampled, y_resampled, idxes = rus.fit_sample(X_new, y_new)\n",
    "\n",
    "print 'some indices: %s' % idxes[:5]\n",
    "print 'total sample: %d' % len(y_resampled)"
   ]
  },
  {
   "cell_type": "code",
   "execution_count": 8,
   "metadata": {
    "collapsed": false
   },
   "outputs": [
    {
     "data": {
      "text/plain": [
       "GaussianNB(priors=None)"
      ]
     },
     "execution_count": 8,
     "metadata": {},
     "output_type": "execute_result"
    }
   ],
   "source": [
    "# training the classifier\n",
    "clf_with_outliers = GaussianNB()\n",
    "clf_with_outliers.fit(X_resampled, y_resampled)"
   ]
  },
  {
   "cell_type": "code",
   "execution_count": 9,
   "metadata": {
    "collapsed": false
   },
   "outputs": [
    {
     "name": "stdout",
     "output_type": "stream",
     "text": [
      "precision 0.68\n",
      "recall 0.47\n",
      "auc 0.32\n"
     ]
    }
   ],
   "source": [
    "# making predictions\n",
    "y_pred = clf_with_outliers.predict(X_new.iloc[~idxes])\n",
    "\n",
    "# checking results\n",
    "precision, recall, _ = precision_recall_curve(y_pred, y_new.iloc[~idxes])\n",
    "auc = average_precision_score(y_true=y_new.iloc[~idxes], y_score=y_pred)\n",
    "print 'precision %.2f' % precision[1]\n",
    "print 'recall %.2f' % recall[1]\n",
    "print 'auc %.2f' % auc"
   ]
  },
  {
   "cell_type": "code",
   "execution_count": 10,
   "metadata": {
    "collapsed": false
   },
   "outputs": [
    {
     "data": {
      "image/png": "[encoded data removed]",
      "text/plain": [
       "<matplotlib.figure.Figure at 0x13ff5b70>"
      ]
     },
     "metadata": {},
     "output_type": "display_data"
    }
   ],
   "source": [
    "# code from scikit-learn\n",
    "# ref: http://scikit-learn.org/stable/auto_examples/model_selection/plot_precision_recall.html#plot-the-precision-recall-curve\n",
    "plt.step(recall, precision, color='b', alpha=0.2, where='post')\n",
    "plt.fill_between(recall, precision, step='post', alpha=0.2, color='b')\n",
    "\n",
    "plt.xlabel('Recall')\n",
    "plt.ylabel('Precision')\n",
    "plt.title('Precision-Recall curve: AUC={0:0.2f}'.format(auc))\n",
    "plt.show()"
   ]
  },
  {
   "cell_type": "markdown",
   "metadata": {},
   "source": [
    "**The classifier didn't performe very well.**  <br />\n",
    "This kind of classifiers isn't reliable to predict fraudulent transactions.\n",
    "\n",
    "Now, let's take the outliers and see what happens..."
   ]
  },
  {
   "cell_type": "code",
   "execution_count": 11,
   "metadata": {
    "collapsed": true
   },
   "outputs": [],
   "source": [
    "# separating the legits from the fraudulents\n",
    "# since the fraudulent ones are scarce, I'll keep them\n",
    "isFraud = np.array(y_new==1, dtype=bool)\n",
    "legit, fraud = X_new[~isFraud], X_new[isFraud]"
   ]
  },
  {
   "cell_type": "code",
   "execution_count": 12,
   "metadata": {
    "collapsed": false
   },
   "outputs": [
    {
     "name": "stderr",
     "output_type": "stream",
     "text": [
      "C:\\Program Files\\Anaconda3\\envs\\Python 2\\lib\\site-packages\\pandas\\core\\indexing.py:132: SettingWithCopyWarning: \n",
      "A value is trying to be set on a copy of a slice from a DataFrame\n",
      "\n",
      "See the caveats in the documentation: http://pandas.pydata.org/pandas-docs/stable/indexing.html#indexing-view-versus-copy\n",
      "  self._setitem_with_indexer(indexer, value)\n",
      "C:\\Program Files\\Anaconda3\\envs\\Python 2\\lib\\site-packages\\ipykernel\\__main__.py:7: SettingWithCopyWarning: \n",
      "A value is trying to be set on a copy of a slice from a DataFrame\n",
      "\n",
      "See the caveats in the documentation: http://pandas.pydata.org/pandas-docs/stable/indexing.html#indexing-view-versus-copy\n",
      "C:\\Program Files\\Anaconda3\\envs\\Python 2\\lib\\site-packages\\ipykernel\\__main__.py:10: SettingWithCopyWarning: \n",
      "A value is trying to be set on a copy of a slice from a DataFrame\n",
      "\n",
      "See the caveats in the documentation: http://pandas.pydata.org/pandas-docs/stable/indexing.html#indexing-view-versus-copy\n"
     ]
    }
   ],
   "source": [
    "# removing outliers from legit sample\n",
    "for idx, feat in enumerate(legit.columns):\n",
    "    q75, q25 = np.percentile(legit[feat], [75 ,25])\n",
    "    iqr_ = iqr(legit[feat])*1.5\n",
    "    \n",
    "    greater = np.array(legit[feat] < q25 - iqr_, dtype=bool)\n",
    "    legit.loc[greater, feat] = np.nan\n",
    "    \n",
    "    lower   = np.array(legit[feat] > q75 + iqr_, dtype=bool)\n",
    "    legit.loc[lower, feat] = np.nan"
   ]
  },
  {
   "cell_type": "code",
   "execution_count": 13,
   "metadata": {
    "collapsed": true
   },
   "outputs": [],
   "source": [
    "legit = pd.concat([legit, fraud], axis=0)"
   ]
  },
  {
   "cell_type": "code",
   "execution_count": 14,
   "metadata": {
    "collapsed": true
   },
   "outputs": [],
   "source": [
    "legit = pd.concat([legit, y_new], axis=1)"
   ]
  },
  {
   "cell_type": "code",
   "execution_count": 15,
   "metadata": {
    "collapsed": true
   },
   "outputs": [],
   "source": [
    "legit = legit.dropna()"
   ]
  },
  {
   "cell_type": "code",
   "execution_count": 16,
   "metadata": {
    "collapsed": false
   },
   "outputs": [
    {
     "data": {
      "text/plain": [
       "V11      0\n",
       "V13      0\n",
       "V15      0\n",
       "Class    0\n",
       "dtype: int64"
      ]
     },
     "execution_count": 16,
     "metadata": {},
     "output_type": "execute_result"
    }
   ],
   "source": [
    "# checking if there is a missing value\n",
    "legit.isnull().sum()"
   ]
  },
  {
   "cell_type": "code",
   "execution_count": 17,
   "metadata": {
    "collapsed": false
   },
   "outputs": [
    {
     "data": {
      "image/png": "[encoded data removed]",
      "text/plain": [
       "<matplotlib.figure.Figure at 0x1311f438>"
      ]
     },
     "metadata": {},
     "output_type": "display_data"
    }
   ],
   "source": [
    "# plotting\n",
    "ax = plt.subplot(131)\n",
    "legit.boxplot('V11', 'Class', ax=ax)\n",
    "\n",
    "ax = plt.subplot(132)\n",
    "legit.boxplot('V13', 'Class', ax=ax)\n",
    "\n",
    "ax = plt.subplot(133)\n",
    "legit.boxplot('V15', 'Class', ax=ax)\n",
    "\n",
    "plt.tight_layout()\n",
    "plt.show()"
   ]
  },
  {
   "cell_type": "code",
   "execution_count": 18,
   "metadata": {
    "collapsed": false
   },
   "outputs": [
    {
     "data": {
      "text/plain": [
       "6603"
      ]
     },
     "execution_count": 18,
     "metadata": {},
     "output_type": "execute_result"
    }
   ],
   "source": [
    "len(X) - len(legit)"
   ]
  },
  {
   "cell_type": "markdown",
   "metadata": {},
   "source": [
    "We only removed 6603 samples. It's a small quantity if we look at the legit's quantity. <br />\n",
    "Now, the outliers will no longer influence on the mean of the data. So, it might improve the performance."
   ]
  },
  {
   "cell_type": "code",
   "execution_count": 19,
   "metadata": {
    "collapsed": true
   },
   "outputs": [],
   "source": [
    "# separating the label from the dataset\n",
    "X_no_outliers, y_no_outliers = legit.iloc[:,:-1].copy(), legit.iloc[:,-1].copy()"
   ]
  },
  {
   "cell_type": "code",
   "execution_count": 20,
   "metadata": {
    "collapsed": true
   },
   "outputs": [],
   "source": [
    "X_resampled, y_resampled, idxes = rus.fit_sample(X_no_outliers, y_no_outliers)"
   ]
  },
  {
   "cell_type": "code",
   "execution_count": 21,
   "metadata": {
    "collapsed": false
   },
   "outputs": [
    {
     "data": {
      "text/plain": [
       "GaussianNB(priors=None)"
      ]
     },
     "execution_count": 21,
     "metadata": {},
     "output_type": "execute_result"
    }
   ],
   "source": [
    "clf_no_outliers = GaussianNB()\n",
    "clf_no_outliers.fit(X_resampled, y_resampled)"
   ]
  },
  {
   "cell_type": "code",
   "execution_count": 22,
   "metadata": {
    "collapsed": false
   },
   "outputs": [
    {
     "name": "stdout",
     "output_type": "stream",
     "text": [
      "precision 0.62\n",
      "recall 0.94\n",
      "auc 0.58\n"
     ]
    }
   ],
   "source": [
    "# making predictions\n",
    "y_pred = clf_no_outliers.predict(X_no_outliers.iloc[~idxes])\n",
    "\n",
    "# checking the results\n",
    "precision, recall, _ = precision_recall_curve(y_pred, y_no_outliers.iloc[~idxes])\n",
    "auc = average_precision_score(y_true=y_no_outliers.iloc[~idxes], y_score=y_pred)\n",
    "print 'precision %.2f' % precision[1]\n",
    "print 'recall %.2f' % recall[1]\n",
    "print 'auc %.2f' % auc"
   ]
  },
  {
   "cell_type": "code",
   "execution_count": 23,
   "metadata": {
    "collapsed": false
   },
   "outputs": [
    {
     "data": {
      "image/png": "[encoded data removed]",
      "text/plain": [
       "<matplotlib.figure.Figure at 0xfdda710>"
      ]
     },
     "metadata": {},
     "output_type": "display_data"
    }
   ],
   "source": [
    "plt.step(recall, precision, color='b', alpha=0.2, where='post')\n",
    "plt.fill_between(recall, precision, step='post', alpha=0.2, color='b')\n",
    "\n",
    "plt.xlabel('Recall')\n",
    "plt.ylabel('Precision')\n",
    "plt.title('Precision-Recall curve: AUC={0:0.2f}'.format(auc))\n",
    "plt.show()"
   ]
  },
  {
   "cell_type": "markdown",
   "metadata": {},
   "source": [
    "**Removing the outliers did improve the performance!** <br />\n",
    "Compared to the first one, the precision didn't improved, however the recall improved from .49 to .94.\n",
    "\n",
    "The auc improved from .32 to .58.\n",
    "\n",
    "The classifier is still unreliable. Even if the classifier get right most of the predictions, it will miss the fraud ones with frequency.<br />\n",
    "However, it's a good benchmark, so I'll stick with it."
   ]
  }
 ],
 "metadata": {
  "anaconda-cloud": {},
  "kernelspec": {
   "display_name": "Python [conda env:Python 2]",
   "language": "python",
   "name": "conda-env-Python 2-py"
  },
  "language_info": {
   "codemirror_mode": {
    "name": "ipython",
    "version": 2
   },
   "file_extension": ".py",
   "mimetype": "text/x-python",
   "name": "python",
   "nbconvert_exporter": "python",
   "pygments_lexer": "ipython2",
   "version": "2.7.12"
  }
 },
 "nbformat": 4,
 "nbformat_minor": 2
}
