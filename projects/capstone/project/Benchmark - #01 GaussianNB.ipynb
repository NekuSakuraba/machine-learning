{
 "cells": [
  {
   "cell_type": "markdown",
   "metadata": {},
   "source": [
    "Let's load some libraries in order to build a GaussianNB as a benchmark"
   ]
  },
  {
   "cell_type": "code",
   "execution_count": 1,
   "metadata": {
    "collapsed": true
   },
   "outputs": [],
   "source": [
    "# Math stuff\n",
    "import numpy as np\n",
    "# For handling dataset\n",
    "import pandas as pd\n",
    "# For plotting\n",
    "import matplotlib.pyplot as plt\n",
    "# helping to remove outliers\n",
    "from scipy.stats import iqr\n",
    "# For undersampling\n",
    "from imblearn.under_sampling import RandomUnderSampler\n",
    "# metrics\n",
    "from sklearn.metrics import precision_recall_curve\n",
    "from sklearn.metrics import average_precision_score\n",
    "# Model used as a benchmark\n",
    "from sklearn.naive_bayes import GaussianNB"
   ]
  },
  {
   "cell_type": "markdown",
   "metadata": {},
   "source": [
    "let's load the dataset and extract the V18, V13, V15 and the Class features"
   ]
  },
  {
   "cell_type": "code",
   "execution_count": 2,
   "metadata": {
    "collapsed": true
   },
   "outputs": [],
   "source": [
    "df = pd.read_csv('creditcard.csv')\n",
    "df = df[['V18', 'V13', 'V15', 'Class']]"
   ]
  },
  {
   "cell_type": "code",
   "execution_count": 3,
   "metadata": {},
   "outputs": [
    {
     "data": {
      "text/html": [
       "<div>\n",
       "<style>\n",
       "    .dataframe thead tr:only-child th {\n",
       "        text-align: right;\n",
       "    }\n",
       "\n",
       "    .dataframe thead th {\n",
       "        text-align: left;\n",
       "    }\n",
       "\n",
       "    .dataframe tbody tr th {\n",
       "        vertical-align: top;\n",
       "    }\n",
       "</style>\n",
       "<table border=\"1\" class=\"dataframe\">\n",
       "  <thead>\n",
       "    <tr style=\"text-align: right;\">\n",
       "      <th></th>\n",
       "      <th>V18</th>\n",
       "      <th>V13</th>\n",
       "      <th>V15</th>\n",
       "      <th>Class</th>\n",
       "    </tr>\n",
       "  </thead>\n",
       "  <tbody>\n",
       "    <tr>\n",
       "      <th>0</th>\n",
       "      <td>0.025791</td>\n",
       "      <td>-0.991390</td>\n",
       "      <td>1.468177</td>\n",
       "      <td>0</td>\n",
       "    </tr>\n",
       "    <tr>\n",
       "      <th>1</th>\n",
       "      <td>-0.183361</td>\n",
       "      <td>0.489095</td>\n",
       "      <td>0.635558</td>\n",
       "      <td>0</td>\n",
       "    </tr>\n",
       "    <tr>\n",
       "      <th>2</th>\n",
       "      <td>-0.121359</td>\n",
       "      <td>0.717293</td>\n",
       "      <td>2.345865</td>\n",
       "      <td>0</td>\n",
       "    </tr>\n",
       "    <tr>\n",
       "      <th>3</th>\n",
       "      <td>1.965775</td>\n",
       "      <td>0.507757</td>\n",
       "      <td>-0.631418</td>\n",
       "      <td>0</td>\n",
       "    </tr>\n",
       "    <tr>\n",
       "      <th>4</th>\n",
       "      <td>-0.038195</td>\n",
       "      <td>1.345852</td>\n",
       "      <td>0.175121</td>\n",
       "      <td>0</td>\n",
       "    </tr>\n",
       "  </tbody>\n",
       "</table>\n",
       "</div>"
      ],
      "text/plain": [
       "        V18       V13       V15  Class\n",
       "0  0.025791 -0.991390  1.468177      0\n",
       "1 -0.183361  0.489095  0.635558      0\n",
       "2 -0.121359  0.717293  2.345865      0\n",
       "3  1.965775  0.507757 -0.631418      0\n",
       "4 -0.038195  1.345852  0.175121      0"
      ]
     },
     "execution_count": 3,
     "metadata": {},
     "output_type": "execute_result"
    }
   ],
   "source": [
    "df.head()"
   ]
  },
  {
   "cell_type": "code",
   "execution_count": 4,
   "metadata": {
    "collapsed": true
   },
   "outputs": [],
   "source": [
    "X = df.iloc[:,:].copy()"
   ]
  },
  {
   "cell_type": "markdown",
   "metadata": {},
   "source": [
    "let's plot a boxplot and take a closer look at the distributions"
   ]
  },
  {
   "cell_type": "code",
   "execution_count": 5,
   "metadata": {
    "scrolled": false
   },
   "outputs": [
    {
     "data": {
      "image/png": "[encoded data removed]",
      "text/plain": [
       "<matplotlib.figure.Figure at 0x150e2978>"
      ]
     },
     "metadata": {},
     "output_type": "display_data"
    }
   ],
   "source": [
    "ax = plt.subplot(131)\n",
    "X.boxplot('V18', 'Class', ax=ax)\n",
    "\n",
    "ax = plt.subplot(132)\n",
    "X.boxplot('V13', 'Class', ax=ax)\n",
    "\n",
    "ax = plt.subplot(133)\n",
    "X.boxplot('V15', 'Class', ax=ax)\n",
    "\n",
    "plt.tight_layout()\n",
    "plt.show()"
   ]
  },
  {
   "cell_type": "markdown",
   "metadata": {},
   "source": [
    "by looking at the boxplot, we can see that there are a lot of outliers. <br />\n",
    "this might be a problem, since the GaussianNB uses as a model a Gaussian distribution, the outliers might influence on the mean of the data, and the classifier might not perform very well.\n",
    "\n",
    "\n",
    "for now, I'll compare the results of the classifier with the outliers and without the classifiers."
   ]
  },
  {
   "cell_type": "code",
   "execution_count": 38,
   "metadata": {
    "collapsed": true
   },
   "outputs": [],
   "source": [
    "# separating the label from the dataset\n",
    "X_new, y_new = X.iloc[:,:-1].copy(), X.iloc[:,-1].copy()"
   ]
  },
  {
   "cell_type": "code",
   "execution_count": 75,
   "metadata": {},
   "outputs": [
    {
     "name": "stdout",
     "output_type": "stream",
     "text": [
      "some indices: [266085 172120  15136  96393 208225]\n",
      "total sample: 7626\n"
     ]
    }
   ],
   "source": [
    "# taking a subsample\n",
    "rus = RandomUnderSampler(ratio={0:246*30, 1:246}, random_state=0, return_indices=True)\n",
    "X_resampled, y_resampled, idxes = rus.fit_sample(X_new, y_new)\n",
    "\n",
    "print 'some indices: %s' % idxes[:5]\n",
    "print 'total sample: %d' % len(y_resampled)"
   ]
  },
  {
   "cell_type": "code",
   "execution_count": 40,
   "metadata": {},
   "outputs": [
    {
     "data": {
      "text/plain": [
       "GaussianNB(priors=None)"
      ]
     },
     "execution_count": 40,
     "metadata": {},
     "output_type": "execute_result"
    }
   ],
   "source": [
    "# training the classifier\n",
    "clf_with_outliers = GaussianNB()\n",
    "clf_with_outliers.fit(X_resampled, y_resampled)"
   ]
  },
  {
   "cell_type": "code",
   "execution_count": 41,
   "metadata": {},
   "outputs": [
    {
     "name": "stdout",
     "output_type": "stream",
     "text": [
      "precision 0.42\n",
      "recall 0.17\n",
      "auc 0.07\n"
     ]
    }
   ],
   "source": [
    "# making predictions\n",
    "y_pred = clf_with_outliers.predict(X_new.iloc[~idxes])\n",
    "\n",
    "# checking results\n",
    "precision, recall, _ = precision_recall_curve(y_pred, y_new.iloc[~idxes])\n",
    "auc = average_precision_score(y_true=y_new.iloc[~idxes], y_score=y_pred)\n",
    "print 'precision %.2f' % precision[1]\n",
    "print 'recall %.2f' % recall[1]\n",
    "print 'auc %.2f' % auc"
   ]
  },
  {
   "cell_type": "code",
   "execution_count": 42,
   "metadata": {},
   "outputs": [
    {
     "data": {
      "image/png": "[encoded data removed]",
      "text/plain": [
       "<matplotlib.figure.Figure at 0x157520f0>"
      ]
     },
     "metadata": {},
     "output_type": "display_data"
    }
   ],
   "source": [
    "# code from scikit-learn\n",
    "# ref: http://scikit-learn.org/stable/auto_examples/model_selection/plot_precision_recall.html#plot-the-precision-recall-curve\n",
    "plt.step(recall, precision, color='b', alpha=0.2, where='post')\n",
    "plt.fill_between(recall, precision, step='post', alpha=0.2, color='b')\n",
    "\n",
    "plt.xlabel('Recall')\n",
    "plt.ylabel('Precision')\n",
    "plt.title('Precision-Recall curve: AUC={0:0.2f}'.format(auc))\n",
    "plt.show()"
   ]
  },
  {
   "cell_type": "markdown",
   "metadata": {},
   "source": [
    "**The classifier didn't performe very well.**  <br />\n",
    "This kind of classifiers isn't reliable to predict fraudulent transactions.\n",
    "\n",
    "Now, let's take the outliers and see what happens..."
   ]
  },
  {
   "cell_type": "code",
   "execution_count": 43,
   "metadata": {
    "collapsed": true
   },
   "outputs": [],
   "source": [
    "# separating the legits from the fraudulents\n",
    "# since the fraudulent ones are scarce, I'll keep them\n",
    "isFraud = np.array(y_new==1, dtype=bool)\n",
    "legit, fraud = X_new[~isFraud], X_new[isFraud]"
   ]
  },
  {
   "cell_type": "code",
   "execution_count": 44,
   "metadata": {},
   "outputs": [
    {
     "name": "stderr",
     "output_type": "stream",
     "text": [
      "C:\\Users\\rodrigo.silva\\AppData\\Local\\Continuum\\Anaconda2\\lib\\site-packages\\ipykernel_launcher.py:7: SettingWithCopyWarning: \n",
      "A value is trying to be set on a copy of a slice from a DataFrame\n",
      "\n",
      "See the caveats in the documentation: http://pandas.pydata.org/pandas-docs/stable/indexing.html#indexing-view-versus-copy\n",
      "  import sys\n",
      "C:\\Users\\rodrigo.silva\\AppData\\Local\\Continuum\\Anaconda2\\lib\\site-packages\\ipykernel_launcher.py:10: SettingWithCopyWarning: \n",
      "A value is trying to be set on a copy of a slice from a DataFrame\n",
      "\n",
      "See the caveats in the documentation: http://pandas.pydata.org/pandas-docs/stable/indexing.html#indexing-view-versus-copy\n",
      "  # Remove the CWD from sys.path while we load stuff.\n"
     ]
    }
   ],
   "source": [
    "# removing outliers from legit sample\n",
    "for idx, feat in enumerate(legit.columns):\n",
    "    q75, q25 = np.percentile(legit[feat], [75 ,25])\n",
    "    iqr_ = iqr(legit[feat])*1.5\n",
    "    \n",
    "    greater = np.array(legit[feat] < q25 - iqr_, dtype=bool)\n",
    "    legit.loc[greater, feat] = np.nan\n",
    "    \n",
    "    lower   = np.array(legit[feat] > q75 + iqr_, dtype=bool)\n",
    "    legit.loc[lower, feat] = np.nan"
   ]
  },
  {
   "cell_type": "code",
   "execution_count": 45,
   "metadata": {
    "collapsed": true
   },
   "outputs": [],
   "source": [
    "legit = pd.concat([legit, fraud], axis=0)"
   ]
  },
  {
   "cell_type": "code",
   "execution_count": 46,
   "metadata": {
    "collapsed": true
   },
   "outputs": [],
   "source": [
    "legit = pd.concat([legit, y_new], axis=1)"
   ]
  },
  {
   "cell_type": "code",
   "execution_count": 47,
   "metadata": {
    "collapsed": true
   },
   "outputs": [],
   "source": [
    "legit = legit.dropna()"
   ]
  },
  {
   "cell_type": "code",
   "execution_count": 48,
   "metadata": {},
   "outputs": [
    {
     "data": {
      "text/plain": [
       "V18      0\n",
       "V13      0\n",
       "V15      0\n",
       "Class    0\n",
       "dtype: int64"
      ]
     },
     "execution_count": 48,
     "metadata": {},
     "output_type": "execute_result"
    }
   ],
   "source": [
    "# checking if there is a missing value\n",
    "legit.isnull().sum()"
   ]
  },
  {
   "cell_type": "code",
   "execution_count": 49,
   "metadata": {
    "scrolled": true
   },
   "outputs": [
    {
     "data": {
      "image/png": "[encoded data removed]",
      "text/plain": [
       "<matplotlib.figure.Figure at 0x1599b208>"
      ]
     },
     "metadata": {},
     "output_type": "display_data"
    }
   ],
   "source": [
    "# plotting\n",
    "ax = plt.subplot(131)\n",
    "legit.boxplot('V18', 'Class', ax=ax)\n",
    "\n",
    "ax = plt.subplot(132)\n",
    "legit.boxplot('V13', 'Class', ax=ax)\n",
    "\n",
    "ax = plt.subplot(133)\n",
    "legit.boxplot('V15', 'Class', ax=ax)\n",
    "\n",
    "plt.tight_layout()\n",
    "plt.show()"
   ]
  },
  {
   "cell_type": "code",
   "execution_count": 50,
   "metadata": {},
   "outputs": [
    {
     "data": {
      "text/plain": [
       "13343"
      ]
     },
     "execution_count": 50,
     "metadata": {},
     "output_type": "execute_result"
    }
   ],
   "source": [
    "len(X) - len(legit)"
   ]
  },
  {
   "cell_type": "markdown",
   "metadata": {},
   "source": [
    "We only removed 13343 samples. It's a small quantity if we look at the legit's quantity. <br />\n",
    "Now, the outliers will no longer influence on the mean of the data. So, it might improve the performance."
   ]
  },
  {
   "cell_type": "code",
   "execution_count": 67,
   "metadata": {
    "collapsed": true
   },
   "outputs": [],
   "source": [
    "# separating the label from the dataset\n",
    "X_no_outliers, y_no_outliers = legit.iloc[:,:-1].copy(), legit.iloc[:,-1].copy()"
   ]
  },
  {
   "cell_type": "code",
   "execution_count": 76,
   "metadata": {
    "collapsed": true
   },
   "outputs": [],
   "source": [
    "X_resampled, y_resampled, idxes = rus.fit_sample(X_no_outliers, y_no_outliers)"
   ]
  },
  {
   "cell_type": "code",
   "execution_count": 61,
   "metadata": {},
   "outputs": [
    {
     "data": {
      "text/plain": [
       "GaussianNB(priors=None)"
      ]
     },
     "execution_count": 61,
     "metadata": {},
     "output_type": "execute_result"
    }
   ],
   "source": [
    "clf_no_outliers = GaussianNB()\n",
    "clf_no_outliers.fit(X_resampled, y_resampled)"
   ]
  },
  {
   "cell_type": "code",
   "execution_count": 77,
   "metadata": {},
   "outputs": [
    {
     "name": "stdout",
     "output_type": "stream",
     "text": [
      "precision 1.00\n",
      "recall 0.00\n",
      "auc 0.25\n"
     ]
    }
   ],
   "source": [
    "# making predictions\n",
    "y_pred = clf_no_outliers.predict(X_no_outliers.iloc[~idxes])\n",
    "y_true = y_no_outliers.iloc[~idxes]\n",
    "\n",
    "# checking the results\n",
    "precision, recall, _ = precision_recall_curve(y_pred, y_true)\n",
    "auc = average_precision_score(y_true=y_true, y_score=y_pred)\n",
    "print 'precision %.2f' % precision[1]\n",
    "print 'recall %.2f' % recall[1]\n",
    "print 'auc %.2f' % auc"
   ]
  },
  {
   "cell_type": "code",
   "execution_count": 90,
   "metadata": {},
   "outputs": [
    {
     "data": {
      "text/plain": [
       "array([7240,   12], dtype=int64)"
      ]
     },
     "execution_count": 90,
     "metadata": {},
     "output_type": "execute_result"
    }
   ],
   "source": [
    "np.bincount(y_no_outliers.iloc[y_no_outliers.index.isin(idxes)])"
   ]
  },
  {
   "cell_type": "code",
   "execution_count": 79,
   "metadata": {
    "collapsed": true
   },
   "outputs": [],
   "source": [
    "from sklearn.metrics import confusion_matrix"
   ]
  },
  {
   "cell_type": "code",
   "execution_count": 81,
   "metadata": {},
   "outputs": [
    {
     "name": "stdout",
     "output_type": "stream",
     "text": [
      "[7380  246]\n"
     ]
    },
    {
     "data": {
      "text/plain": [
       "array([7614,   12], dtype=int64)"
      ]
     },
     "execution_count": 81,
     "metadata": {},
     "output_type": "execute_result"
    }
   ],
   "source": [
    "print np.bincount(y_resampled)\n",
    "np.bincount(y_no_outliers.iloc[~idxes])"
   ]
  },
  {
   "cell_type": "code",
   "execution_count": 82,
   "metadata": {},
   "outputs": [
    {
     "data": {
      "text/plain": [
       "array([[7614,    0],\n",
       "       [   9,    3]], dtype=int64)"
      ]
     },
     "execution_count": 82,
     "metadata": {},
     "output_type": "execute_result"
    }
   ],
   "source": [
    "tn, fp, fn, tp = confusion_matrix(y_pred=y_pred, y_true=y_true).ravel()\n",
    "confusion_matrix(y_pred=y_pred, y_true=y_true)"
   ]
  },
  {
   "cell_type": "code",
   "execution_count": 23,
   "metadata": {},
   "outputs": [
    {
     "data": {
      "image/png": "[encoded data removed]",
      "text/plain": [
       "<matplotlib.figure.Figure at 0x1447ac50>"
      ]
     },
     "metadata": {},
     "output_type": "display_data"
    }
   ],
   "source": [
    "plt.step(recall, precision, color='b', alpha=0.2, where='post')\n",
    "plt.fill_between(recall, precision, step='post', alpha=0.2, color='b')\n",
    "\n",
    "plt.xlabel('Recall')\n",
    "plt.ylabel('Precision')\n",
    "plt.title('Precision-Recall curve: AUC={0:0.2f}'.format(auc))\n",
    "plt.show()"
   ]
  },
  {
   "cell_type": "markdown",
   "metadata": {},
   "source": [
    "**Removing the outliers did improve the performance!** <br />\n",
    "Compared to the first one, the precision improved a lot, however the recall didn't improve.\n",
    "\n",
    "The auc improved from .08 to .27.\n",
    "\n",
    "The classifier is still unreliable. Even if the classifier get right most of the predictions, it will miss the fraud ones with frequency.<br />\n",
    "However, it's a good benchmark, so I'll stick with it."
   ]
  }
 ],
 "metadata": {
  "anaconda-cloud": {},
  "kernelspec": {
   "display_name": "Python 2",
   "language": "python",
   "name": "python2"
  },
  "language_info": {
   "codemirror_mode": {
    "name": "ipython",
    "version": 2
   },
   "file_extension": ".py",
   "mimetype": "text/x-python",
   "name": "python",
   "nbconvert_exporter": "python",
   "pygments_lexer": "ipython2",
   "version": "2.7.13"
  }
 },
 "nbformat": 4,
 "nbformat_minor": 2
}
